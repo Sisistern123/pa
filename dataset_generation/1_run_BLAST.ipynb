{
 "cells": [
  {
   "cell_type": "code",
   "outputs": [],
   "source": [
    "import pandas as pd\n",
    "import numpy as np\n",
    "import subprocess\n",
    "from Bio import SeqIO"
   ],
   "metadata": {
    "collapsed": false,
    "ExecuteTime": {
     "end_time": "2024-11-06T14:10:21.266421Z",
     "start_time": "2024-11-06T14:10:18.554600Z"
    }
   },
   "id": "17feead2377d14d0",
   "execution_count": 4
  },
  {
   "cell_type": "code",
   "outputs": [
    {
     "data": {
      "text/plain": "           Entry   Entry Name  \\\n0         S0F1M9   TK1E_HADVE   \n1         Q5Y4U7  T5G1A_AGEOR   \n2         Q5Y4U2  TXAG1_AGEOR   \n3     A0A1P8NVS2   COW1_CONLI   \n4         P83911  TX20A_PHORI   \n...          ...          ...   \n5176      P24160   O27A_CONTE   \n5177      G1AS76   O26A_CONVC   \n5178      Q9BPC8   O26N_CONVE   \n5179  A0A3G3C7V6   O266_CONAA   \n5180      Q9BHB7   O261_CONTE   \n\n                                          Protein names  \\\n0     Lambda-hexatoxin-Hv1e (Lambda-HXTX-Hv1e) (Kapp...   \n1     Mu-agatoxin-Ao1a (Mu-AGTX-Ao1a) (Beta/delta-ag...   \n2        U10-agatoxin-Ao1a (U10-AGTX-Ao1a) (AgorTX_B7b)   \n3                                        Contryphan-Li1   \n4     Omega-ctenitoxin-Pr1a (Omega-CNTX-Pr1a) (Neuro...   \n...                                                 ...   \n5176                Gamma-conotoxin-like TxVIIA (TxIIA)   \n5177                                   Conotoxin Vc6.10   \n5178                              Conotoxin VnMEKL-0223   \n5179                         Gamma-conotoxin-like Am6.6   \n5180        Conotoxin TxMEKL-021 (Conotoxin TxMEKL-022)   \n\n                                               Organism  \\\n0     Hadronyche versuta (Blue mountains funnel-web ...   \n1                Agelena orientalis (Funnel-web spider)   \n2                Agelena orientalis (Funnel-web spider)   \n3                            Conus lividus (Livid cone)   \n4     Phoneutria reidyi (Brazilian Amazonian armed s...   \n...                                                 ...   \n5176                 Conus textile (Cloth-of-gold cone)   \n5177              Conus victoriae (Queen Victoria cone)   \n5178             Conus ventricosus (Mediterranean cone)   \n5179                         Conus amadis (Amadis cone)   \n5180                 Conus textile (Cloth-of-gold cone)   \n\n                                       Protein families  \\\n0                    Neurotoxin 11 (kappa toxin) family   \n1     Neurotoxin 07 (Beta/delta-agtx) family, 04 (ag...   \n2     Neurotoxin 04 (omega-agtx) family, 03 (type II...   \n3                     O2 superfamily, Contryphan family   \n4                      Neurotoxin 02 (plectoxin) family   \n...                                                 ...   \n5176                           Conotoxin O2 superfamily   \n5177                           Conotoxin O2 superfamily   \n5178                           Conotoxin O2 superfamily   \n5179                                Conotoxin O2 family   \n5180                           Conotoxin O2 superfamily   \n\n                                               Sequence  \\\n0     MNTATCFIVLLVVATVIGGIEAGEFDMRKDVMGLFRRAICPGADRP...   \n1     MKAIIFFCFLSVMVFIVAEASSLEALKIFEGERDCVGENGRCRDWY...   \n2     MCVATCLCTFAYVLAKSDEGENLISKVEETQRGCIEIGGDCDGYLD...   \n3     MEKLTMLVLVAAVLLSAQVMVQGDGDQPADRDAVPRDDNPGGTIGK...   \n4           ACAGLYKKCGKGVNTCCENRPCKCDLAMGNCICKKKFVEFFGG   \n...                                                 ...   \n5176  MEKLTILLLVAAVLMSTQAMFQGDGEKSRKAEINFSETRKLARNKQ...   \n5177  MEKLTILLLVAAVLTSTQALIQGGADERQKAKINFLSRSDRECRGY...   \n5178  MQKLTILLLVAAVLMSTQALIKGGGEKRPKEKIKFLSKRKTTAESW...   \n5179  MEKLTILLLVAAILMSTQALNQEQRQQAKINLLSKKKPSAERWRRG...   \n5180  MEKLTILLLVAVVLMSTQALPQGGGEKRPRENIRFLSKRKSNAERW...   \n\n                             Signal peptide  \\\n0     SIGNAL 1..22; /evidence=\"ECO:0000255\"   \n1     SIGNAL 1..20; /evidence=\"ECO:0000255\"   \n2     SIGNAL 1..15; /evidence=\"ECO:0000255\"   \n3     SIGNAL 1..23; /evidence=\"ECO:0000255\"   \n4                                       NaN   \n...                                     ...   \n5176  SIGNAL 1..19; /evidence=\"ECO:0000255\"   \n5177  SIGNAL 1..19; /evidence=\"ECO:0000255\"   \n5178  SIGNAL 1..19; /evidence=\"ECO:0000255\"   \n5179  SIGNAL 1..19; /evidence=\"ECO:0000255\"   \n5180  SIGNAL 1..19; /evidence=\"ECO:0000255\"   \n\n                                          Sequence_noSP  labels  \\\n0     GEFDMRKDVMGLFRRAICPGADRPCAACCPCCPGTSCKAESNGVFY...    -1.0   \n1     SSLEALKIFEGERDCVGENGRCRDWYNDCCDGFYCSCRQPPYCICR...    -1.0   \n2     KSDEGENLISKVEETQRGCIEIGGDCDGYLDKSYCQCCRNNGFCSC...    -1.0   \n3              DGDQPADRDAVPRDDNPGGTIGKIMNVLLPSGCPWNPWCG    -1.0   \n4           ACAGLYKKCGKGVNTCCENRPCKCDLAMGNCICKKKFVEFFGG    -1.0   \n...                                                 ...     ...   \n5176  MFQGDGEKSRKAEINFSETRKLARNKQKRCGGYSTYCEVDSECCSD...     NaN   \n5177  LIQGGADERQKAKINFLSRSDRECRGYNAPCSAGAPCCSWWTCSTQ...     NaN   \n5178  LIKGGGEKRPKEKIKFLSKRKTTAESWWEGECSGWSVYCTQHSECC...     NaN   \n5179  LNQEQRQQAKINLLSKKKPSAERWRRGCTWWFGRCAEDGECCSNSC...     NaN   \n5180  LPQGGGEKRPRENIRFLSKRKSNAERWREGSCTSWLATCTDASQCC...     NaN   \n\n            new_protein_family shortened_label  embed_label  blast_labels  \n0                          NaN             NaN           -1            -1  \n1                          NaN             NaN           -1            -1  \n2                          NaN             NaN           -1            -1  \n3                          NaN             NaN           -1            -1  \n4                          NaN             NaN           -1            -1  \n...                        ...             ...          ...           ...  \n5176  Conotoxin O2 superfamily          CNTXO2           -1            29  \n5177  Conotoxin O2 superfamily          CNTXO2           -1            29  \n5178  Conotoxin O2 superfamily          CNTXO2           -1            29  \n5179  Conotoxin O2 superfamily          CNTXO2           56            29  \n5180  Conotoxin O2 superfamily          CNTXO2           56            29  \n\n[5181 rows x 13 columns]",
      "text/html": "<div>\n<style scoped>\n    .dataframe tbody tr th:only-of-type {\n        vertical-align: middle;\n    }\n\n    .dataframe tbody tr th {\n        vertical-align: top;\n    }\n\n    .dataframe thead th {\n        text-align: right;\n    }\n</style>\n<table border=\"1\" class=\"dataframe\">\n  <thead>\n    <tr style=\"text-align: right;\">\n      <th></th>\n      <th>Entry</th>\n      <th>Entry Name</th>\n      <th>Protein names</th>\n      <th>Organism</th>\n      <th>Protein families</th>\n      <th>Sequence</th>\n      <th>Signal peptide</th>\n      <th>Sequence_noSP</th>\n      <th>labels</th>\n      <th>new_protein_family</th>\n      <th>shortened_label</th>\n      <th>embed_label</th>\n      <th>blast_labels</th>\n    </tr>\n  </thead>\n  <tbody>\n    <tr>\n      <th>0</th>\n      <td>S0F1M9</td>\n      <td>TK1E_HADVE</td>\n      <td>Lambda-hexatoxin-Hv1e (Lambda-HXTX-Hv1e) (Kapp...</td>\n      <td>Hadronyche versuta (Blue mountains funnel-web ...</td>\n      <td>Neurotoxin 11 (kappa toxin) family</td>\n      <td>MNTATCFIVLLVVATVIGGIEAGEFDMRKDVMGLFRRAICPGADRP...</td>\n      <td>SIGNAL 1..22; /evidence=\"ECO:0000255\"</td>\n      <td>GEFDMRKDVMGLFRRAICPGADRPCAACCPCCPGTSCKAESNGVFY...</td>\n      <td>-1.0</td>\n      <td>NaN</td>\n      <td>NaN</td>\n      <td>-1</td>\n      <td>-1</td>\n    </tr>\n    <tr>\n      <th>1</th>\n      <td>Q5Y4U7</td>\n      <td>T5G1A_AGEOR</td>\n      <td>Mu-agatoxin-Ao1a (Mu-AGTX-Ao1a) (Beta/delta-ag...</td>\n      <td>Agelena orientalis (Funnel-web spider)</td>\n      <td>Neurotoxin 07 (Beta/delta-agtx) family, 04 (ag...</td>\n      <td>MKAIIFFCFLSVMVFIVAEASSLEALKIFEGERDCVGENGRCRDWY...</td>\n      <td>SIGNAL 1..20; /evidence=\"ECO:0000255\"</td>\n      <td>SSLEALKIFEGERDCVGENGRCRDWYNDCCDGFYCSCRQPPYCICR...</td>\n      <td>-1.0</td>\n      <td>NaN</td>\n      <td>NaN</td>\n      <td>-1</td>\n      <td>-1</td>\n    </tr>\n    <tr>\n      <th>2</th>\n      <td>Q5Y4U2</td>\n      <td>TXAG1_AGEOR</td>\n      <td>U10-agatoxin-Ao1a (U10-AGTX-Ao1a) (AgorTX_B7b)</td>\n      <td>Agelena orientalis (Funnel-web spider)</td>\n      <td>Neurotoxin 04 (omega-agtx) family, 03 (type II...</td>\n      <td>MCVATCLCTFAYVLAKSDEGENLISKVEETQRGCIEIGGDCDGYLD...</td>\n      <td>SIGNAL 1..15; /evidence=\"ECO:0000255\"</td>\n      <td>KSDEGENLISKVEETQRGCIEIGGDCDGYLDKSYCQCCRNNGFCSC...</td>\n      <td>-1.0</td>\n      <td>NaN</td>\n      <td>NaN</td>\n      <td>-1</td>\n      <td>-1</td>\n    </tr>\n    <tr>\n      <th>3</th>\n      <td>A0A1P8NVS2</td>\n      <td>COW1_CONLI</td>\n      <td>Contryphan-Li1</td>\n      <td>Conus lividus (Livid cone)</td>\n      <td>O2 superfamily, Contryphan family</td>\n      <td>MEKLTMLVLVAAVLLSAQVMVQGDGDQPADRDAVPRDDNPGGTIGK...</td>\n      <td>SIGNAL 1..23; /evidence=\"ECO:0000255\"</td>\n      <td>DGDQPADRDAVPRDDNPGGTIGKIMNVLLPSGCPWNPWCG</td>\n      <td>-1.0</td>\n      <td>NaN</td>\n      <td>NaN</td>\n      <td>-1</td>\n      <td>-1</td>\n    </tr>\n    <tr>\n      <th>4</th>\n      <td>P83911</td>\n      <td>TX20A_PHORI</td>\n      <td>Omega-ctenitoxin-Pr1a (Omega-CNTX-Pr1a) (Neuro...</td>\n      <td>Phoneutria reidyi (Brazilian Amazonian armed s...</td>\n      <td>Neurotoxin 02 (plectoxin) family</td>\n      <td>ACAGLYKKCGKGVNTCCENRPCKCDLAMGNCICKKKFVEFFGG</td>\n      <td>NaN</td>\n      <td>ACAGLYKKCGKGVNTCCENRPCKCDLAMGNCICKKKFVEFFGG</td>\n      <td>-1.0</td>\n      <td>NaN</td>\n      <td>NaN</td>\n      <td>-1</td>\n      <td>-1</td>\n    </tr>\n    <tr>\n      <th>...</th>\n      <td>...</td>\n      <td>...</td>\n      <td>...</td>\n      <td>...</td>\n      <td>...</td>\n      <td>...</td>\n      <td>...</td>\n      <td>...</td>\n      <td>...</td>\n      <td>...</td>\n      <td>...</td>\n      <td>...</td>\n      <td>...</td>\n    </tr>\n    <tr>\n      <th>5176</th>\n      <td>P24160</td>\n      <td>O27A_CONTE</td>\n      <td>Gamma-conotoxin-like TxVIIA (TxIIA)</td>\n      <td>Conus textile (Cloth-of-gold cone)</td>\n      <td>Conotoxin O2 superfamily</td>\n      <td>MEKLTILLLVAAVLMSTQAMFQGDGEKSRKAEINFSETRKLARNKQ...</td>\n      <td>SIGNAL 1..19; /evidence=\"ECO:0000255\"</td>\n      <td>MFQGDGEKSRKAEINFSETRKLARNKQKRCGGYSTYCEVDSECCSD...</td>\n      <td>NaN</td>\n      <td>Conotoxin O2 superfamily</td>\n      <td>CNTXO2</td>\n      <td>-1</td>\n      <td>29</td>\n    </tr>\n    <tr>\n      <th>5177</th>\n      <td>G1AS76</td>\n      <td>O26A_CONVC</td>\n      <td>Conotoxin Vc6.10</td>\n      <td>Conus victoriae (Queen Victoria cone)</td>\n      <td>Conotoxin O2 superfamily</td>\n      <td>MEKLTILLLVAAVLTSTQALIQGGADERQKAKINFLSRSDRECRGY...</td>\n      <td>SIGNAL 1..19; /evidence=\"ECO:0000255\"</td>\n      <td>LIQGGADERQKAKINFLSRSDRECRGYNAPCSAGAPCCSWWTCSTQ...</td>\n      <td>NaN</td>\n      <td>Conotoxin O2 superfamily</td>\n      <td>CNTXO2</td>\n      <td>-1</td>\n      <td>29</td>\n    </tr>\n    <tr>\n      <th>5178</th>\n      <td>Q9BPC8</td>\n      <td>O26N_CONVE</td>\n      <td>Conotoxin VnMEKL-0223</td>\n      <td>Conus ventricosus (Mediterranean cone)</td>\n      <td>Conotoxin O2 superfamily</td>\n      <td>MQKLTILLLVAAVLMSTQALIKGGGEKRPKEKIKFLSKRKTTAESW...</td>\n      <td>SIGNAL 1..19; /evidence=\"ECO:0000255\"</td>\n      <td>LIKGGGEKRPKEKIKFLSKRKTTAESWWEGECSGWSVYCTQHSECC...</td>\n      <td>NaN</td>\n      <td>Conotoxin O2 superfamily</td>\n      <td>CNTXO2</td>\n      <td>-1</td>\n      <td>29</td>\n    </tr>\n    <tr>\n      <th>5179</th>\n      <td>A0A3G3C7V6</td>\n      <td>O266_CONAA</td>\n      <td>Gamma-conotoxin-like Am6.6</td>\n      <td>Conus amadis (Amadis cone)</td>\n      <td>Conotoxin O2 family</td>\n      <td>MEKLTILLLVAAILMSTQALNQEQRQQAKINLLSKKKPSAERWRRG...</td>\n      <td>SIGNAL 1..19; /evidence=\"ECO:0000255\"</td>\n      <td>LNQEQRQQAKINLLSKKKPSAERWRRGCTWWFGRCAEDGECCSNSC...</td>\n      <td>NaN</td>\n      <td>Conotoxin O2 superfamily</td>\n      <td>CNTXO2</td>\n      <td>56</td>\n      <td>29</td>\n    </tr>\n    <tr>\n      <th>5180</th>\n      <td>Q9BHB7</td>\n      <td>O261_CONTE</td>\n      <td>Conotoxin TxMEKL-021 (Conotoxin TxMEKL-022)</td>\n      <td>Conus textile (Cloth-of-gold cone)</td>\n      <td>Conotoxin O2 superfamily</td>\n      <td>MEKLTILLLVAVVLMSTQALPQGGGEKRPRENIRFLSKRKSNAERW...</td>\n      <td>SIGNAL 1..19; /evidence=\"ECO:0000255\"</td>\n      <td>LPQGGGEKRPRENIRFLSKRKSNAERWREGSCTSWLATCTDASQCC...</td>\n      <td>NaN</td>\n      <td>Conotoxin O2 superfamily</td>\n      <td>CNTXO2</td>\n      <td>56</td>\n      <td>29</td>\n    </tr>\n  </tbody>\n</table>\n<p>5181 rows × 13 columns</p>\n</div>"
     },
     "execution_count": 5,
     "metadata": {},
     "output_type": "execute_result"
    }
   ],
   "source": [
    "tox = pd.read_excel(\"out/data/blast_embed_tox.xlsx\")\n",
    "tox"
   ],
   "metadata": {
    "collapsed": false,
    "ExecuteTime": {
     "end_time": "2024-11-06T14:10:22.707800Z",
     "start_time": "2024-11-06T14:10:21.268630Z"
    }
   },
   "id": "d1a81d1bfbeaf091",
   "execution_count": 5
  },
  {
   "cell_type": "code",
   "outputs": [],
   "source": [
    "def df_to_fasta(df, file_name=\"data/toxins.fasta\"):\n",
    "    with open(file_name, \"w\") as fasta_file:\n",
    "        for _, row in df.iterrows():\n",
    "            header = f\">{row['Entry']}\"\n",
    "            sequence = row['Sequence']\n",
    "            fasta_file.write(f\"{header}\\n{sequence}\\n\")"
   ],
   "metadata": {
    "collapsed": false,
    "ExecuteTime": {
     "end_time": "2024-11-06T14:10:22.713385Z",
     "start_time": "2024-11-06T14:10:22.709693Z"
    }
   },
   "id": "d02d4f22a4c254c5",
   "execution_count": 6
  },
  {
   "cell_type": "code",
   "outputs": [],
   "source": [
    "path_to_fasta = \"data/toxins.fasta\"\n",
    "path_to_db = \"../BLAST/toxins_db\"\n",
    "#path_to_res"
   ],
   "metadata": {
    "collapsed": false,
    "ExecuteTime": {
     "end_time": "2024-11-06T14:10:22.718694Z",
     "start_time": "2024-11-06T14:10:22.715874Z"
    }
   },
   "id": "120ac1fc36ab69a2",
   "execution_count": 7
  },
  {
   "cell_type": "code",
   "outputs": [],
   "source": [
    "df_to_fasta(tox, path_to_fasta)"
   ],
   "metadata": {
    "collapsed": false,
    "ExecuteTime": {
     "end_time": "2024-11-06T14:10:22.992236Z",
     "start_time": "2024-11-06T14:10:22.720116Z"
    }
   },
   "id": "edc173698629914e",
   "execution_count": 8
  },
  {
   "cell_type": "code",
   "outputs": [
    {
     "name": "stdout",
     "output_type": "stream",
     "text": [
      "\n",
      "\n",
      "Building a new DB, current time: 11/06/2024 15:10:29\n",
      "New DB name:   /Users/selinturkoglu/PycharmProjects/pa/BLAST/toxins_db\n",
      "New DB title:  data/toxins.fasta\n",
      "Sequence type: Protein\n",
      "Deleted existing Protein BLAST database named /Users/selinturkoglu/PycharmProjects/pa/BLAST/toxins_db\n",
      "Keep MBits: T\n",
      "Maximum file size: 3000000000B\n",
      "Adding sequences from FASTA; added 5181 sequences in 0.084857 seconds.\n"
     ]
    },
    {
     "data": {
      "text/plain": "CompletedProcess(args=['/usr/local/ncbi/blast/bin/makeblastdb', '-in', 'data/toxins.fasta', '-dbtype', 'prot', '-out', '/Users/selinturkoglu/PycharmProjects/pa/BLAST/toxins_db'], returncode=0)"
     },
     "execution_count": 9,
     "metadata": {},
     "output_type": "execute_result"
    }
   ],
   "source": [
    "subprocess.run([\n",
    "    \"/usr/local/ncbi/blast/bin/makeblastdb\",\n",
    "    \"-in\", path_to_fasta,\n",
    "    \"-dbtype\", \"prot\",\n",
    "    \"-out\", path_to_db\n",
    "])"
   ],
   "metadata": {
    "collapsed": false,
    "ExecuteTime": {
     "end_time": "2024-11-06T14:10:30.310696Z",
     "start_time": "2024-11-06T14:10:29.240618Z"
    }
   },
   "id": "4c16e8796d364370",
   "execution_count": 9
  },
  {
   "cell_type": "code",
   "outputs": [
    {
     "data": {
      "text/plain": "CompletedProcess(args=['/usr/local/ncbi/blast/bin/blastp', '-query', 'data/toxins.fasta', '-db', '/Users/selinturkoglu/PycharmProjects/pa/BLAST/toxins_db', '-outfmt', '6', '-out', '/Users/selinturkoglu/PycharmProjects/pa/BLAST/blast_res.txt'], returncode=0)"
     },
     "execution_count": 10,
     "metadata": {},
     "output_type": "execute_result"
    }
   ],
   "source": [
    "subprocess.run([\n",
    "    \"/usr/local/ncbi/blast/bin/blastp\",\n",
    "    \"-query\", path_to_fasta,\n",
    "    \"-db\", path_to_db,\n",
    "    \"-outfmt\", \"6\",\n",
    "    \"-out\", \"../BLAST/blast_res.txt\"])"
   ],
   "metadata": {
    "collapsed": false,
    "ExecuteTime": {
     "end_time": "2024-11-06T14:21:27.951316Z",
     "start_time": "2024-11-06T14:11:09.364877Z"
    }
   },
   "id": "4349acca9a8a96b1",
   "execution_count": 10
  },
  {
   "cell_type": "code",
   "outputs": [],
   "source": [],
   "metadata": {
    "collapsed": false
   },
   "id": "5f11f78ad885b746"
  }
 ],
 "metadata": {
  "kernelspec": {
   "display_name": "Python 3",
   "language": "python",
   "name": "python3"
  },
  "language_info": {
   "codemirror_mode": {
    "name": "ipython",
    "version": 2
   },
   "file_extension": ".py",
   "mimetype": "text/x-python",
   "name": "python",
   "nbconvert_exporter": "python",
   "pygments_lexer": "ipython2",
   "version": "2.7.6"
  }
 },
 "nbformat": 4,
 "nbformat_minor": 5
}
