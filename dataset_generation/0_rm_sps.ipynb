{
 "cells": [
  {
   "cell_type": "code",
   "execution_count": 11,
   "id": "initial_id",
   "metadata": {
    "collapsed": true,
    "ExecuteTime": {
     "end_time": "2024-12-06T14:12:13.561559Z",
     "start_time": "2024-12-06T14:12:13.558797Z"
    }
   },
   "outputs": [],
   "source": [
    "import pandas as pd\n",
    "import numpy as np\n",
    "import re\n",
    "from pathlib import Path\n",
    "from Bio import SeqIO"
   ]
  },
  {
   "cell_type": "markdown",
   "source": [
    "## load in SignalP6 results"
   ],
   "metadata": {
    "collapsed": false
   },
   "id": "248134ef35e4d949"
  },
  {
   "cell_type": "code",
   "outputs": [
    {
     "data": {
      "text/plain": "      identifier                                           Sequence\n0     A0A044RE18  IEHDSICIADVDDACPEPSHTVMRLRERNDKKAHLIAKQHGLEIRG...\n1     A0A0B7P9G0  TSVDTSNKLLLQKANDFNLSQNLSSSRTRRTIANSFRIVGIRLEDE...\n2     A0A0K2S4Q6  VSGPSTVMGAVGESLSVQCRYEEKYKTFNKYWCRQPCLPIWHEMVE...\n3     A0A0K3AWM6  DQRLSSTSISSMNGFSTTRKCEHITIPMCKNLDYNQTVFPNLLGHT...\n4     A0A0R4IKU3  QDQSCCVHHAADIPRCRDACEQLASIRSESRLRHLLHRLPSYCPET...\n...          ...                                                ...\n4074      O08675  CQSGINVSDNSAKPTLTIKSFNGGPQNTFEEFPLSDIEGWTGATTT...\n4075      O08692  LRQLRYEEIVDRAIEAYNQGRQGRPLFRLLSATPPSSQNPATNIPL...\n4076      O08712  ETLPPKYLHYDPETGHQLLCDKCAPGTYLKQHCTVRRKTLCVPCPD...\n4077      O08762  DPVSRSPLHRPHPSPPRSQHAHYLPSSRRPPRTPRFPLPLRIPAAQ...\n4078      O08795  VEVKRPRGVSLSNHHFYEESKPFTCLDGTATIPFDQVNDDYCDCKD...\n\n[4079 rows x 2 columns]",
      "text/html": "<div>\n<style scoped>\n    .dataframe tbody tr th:only-of-type {\n        vertical-align: middle;\n    }\n\n    .dataframe tbody tr th {\n        vertical-align: top;\n    }\n\n    .dataframe thead th {\n        text-align: right;\n    }\n</style>\n<table border=\"1\" class=\"dataframe\">\n  <thead>\n    <tr style=\"text-align: right;\">\n      <th></th>\n      <th>identifier</th>\n      <th>Sequence</th>\n    </tr>\n  </thead>\n  <tbody>\n    <tr>\n      <th>0</th>\n      <td>A0A044RE18</td>\n      <td>IEHDSICIADVDDACPEPSHTVMRLRERNDKKAHLIAKQHGLEIRG...</td>\n    </tr>\n    <tr>\n      <th>1</th>\n      <td>A0A0B7P9G0</td>\n      <td>TSVDTSNKLLLQKANDFNLSQNLSSSRTRRTIANSFRIVGIRLEDE...</td>\n    </tr>\n    <tr>\n      <th>2</th>\n      <td>A0A0K2S4Q6</td>\n      <td>VSGPSTVMGAVGESLSVQCRYEEKYKTFNKYWCRQPCLPIWHEMVE...</td>\n    </tr>\n    <tr>\n      <th>3</th>\n      <td>A0A0K3AWM6</td>\n      <td>DQRLSSTSISSMNGFSTTRKCEHITIPMCKNLDYNQTVFPNLLGHT...</td>\n    </tr>\n    <tr>\n      <th>4</th>\n      <td>A0A0R4IKU3</td>\n      <td>QDQSCCVHHAADIPRCRDACEQLASIRSESRLRHLLHRLPSYCPET...</td>\n    </tr>\n    <tr>\n      <th>...</th>\n      <td>...</td>\n      <td>...</td>\n    </tr>\n    <tr>\n      <th>4074</th>\n      <td>O08675</td>\n      <td>CQSGINVSDNSAKPTLTIKSFNGGPQNTFEEFPLSDIEGWTGATTT...</td>\n    </tr>\n    <tr>\n      <th>4075</th>\n      <td>O08692</td>\n      <td>LRQLRYEEIVDRAIEAYNQGRQGRPLFRLLSATPPSSQNPATNIPL...</td>\n    </tr>\n    <tr>\n      <th>4076</th>\n      <td>O08712</td>\n      <td>ETLPPKYLHYDPETGHQLLCDKCAPGTYLKQHCTVRRKTLCVPCPD...</td>\n    </tr>\n    <tr>\n      <th>4077</th>\n      <td>O08762</td>\n      <td>DPVSRSPLHRPHPSPPRSQHAHYLPSSRRPPRTPRFPLPLRIPAAQ...</td>\n    </tr>\n    <tr>\n      <th>4078</th>\n      <td>O08795</td>\n      <td>VEVKRPRGVSLSNHHFYEESKPFTCLDGTATIPFDQVNDDYCDCKD...</td>\n    </tr>\n  </tbody>\n</table>\n<p>4079 rows × 2 columns</p>\n</div>"
     },
     "execution_count": 16,
     "metadata": {},
     "output_type": "execute_result"
    }
   ],
   "source": [
    "def fasta_to_dataframe(fasta_file):\n",
    "    records = SeqIO.parse(fasta_file, \"fasta\")\n",
    "    data = []\n",
    "\n",
    "    for record in records:\n",
    "        id_part = record.id.split('|')[-1]\n",
    "        data.append({\"identifier\": id_part, \"Sequence\": str(record.seq)})\n",
    "\n",
    "    df = pd.DataFrame(data)\n",
    "    return df\n",
    "\n",
    "# SignalP6 processed sequences (input: 5,181 or 21,484 seqs)\n",
    "proc = fasta_to_dataframe(\"../data/SP6/processed_entries.fasta\")\n",
    "proc = proc.rename(columns={'Sequence': 'Sequence'})\n",
    "proc"
   ],
   "metadata": {
    "collapsed": false,
    "ExecuteTime": {
     "end_time": "2024-12-06T14:12:38.518899Z",
     "start_time": "2024-12-06T14:12:38.485714Z"
    }
   },
   "id": "a9295e70db1c8199",
   "execution_count": 16
  },
  {
   "cell_type": "code",
   "outputs": [
    {
     "data": {
      "text/plain": "      identifier       source    feature_type  start  end     score strand  \\\n0     A0A044RE18  SignalP-6.0  signal_peptide      1   20  0.844694      .   \n1     A0A0B7P9G0  SignalP-6.0  signal_peptide      1   20  0.999824      .   \n2     A0A0K2S4Q6  SignalP-6.0  signal_peptide      1   24  0.999847      .   \n3     A0A0K3AWM6  SignalP-6.0  signal_peptide      1   16  0.999809      .   \n4     A0A0R4IKU3  SignalP-6.0  signal_peptide      1   22  0.999853      .   \n...          ...          ...             ...    ...  ...       ...    ...   \n4074      O08675  SignalP-6.0  signal_peptide      1   18  0.999954      .   \n4075      O08692  SignalP-6.0  signal_peptide      1   21  0.999849      .   \n4076      O08712  SignalP-6.0  signal_peptide      1   21  0.999857      .   \n4077      O08762  SignalP-6.0  signal_peptide      1   21  0.999831      .   \n4078      O08795  SignalP-6.0  signal_peptide      1   14  0.999760      .   \n\n     phase attributes                                           Sequence  \n0        .          .  IEHDSICIADVDDACPEPSHTVMRLRERNDKKAHLIAKQHGLEIRG...  \n1        .          .  TSVDTSNKLLLQKANDFNLSQNLSSSRTRRTIANSFRIVGIRLEDE...  \n2        .          .  VSGPSTVMGAVGESLSVQCRYEEKYKTFNKYWCRQPCLPIWHEMVE...  \n3        .          .  DQRLSSTSISSMNGFSTTRKCEHITIPMCKNLDYNQTVFPNLLGHT...  \n4        .          .  QDQSCCVHHAADIPRCRDACEQLASIRSESRLRHLLHRLPSYCPET...  \n...    ...        ...                                                ...  \n4074     .          .  CQSGINVSDNSAKPTLTIKSFNGGPQNTFEEFPLSDIEGWTGATTT...  \n4075     .          .  LRQLRYEEIVDRAIEAYNQGRQGRPLFRLLSATPPSSQNPATNIPL...  \n4076     .          .  ETLPPKYLHYDPETGHQLLCDKCAPGTYLKQHCTVRRKTLCVPCPD...  \n4077     .          .  DPVSRSPLHRPHPSPPRSQHAHYLPSSRRPPRTPRFPLPLRIPAAQ...  \n4078     .          .  VEVKRPRGVSLSNHHFYEESKPFTCLDGTATIPFDQVNDDYCDCKD...  \n\n[4079 rows x 10 columns]",
      "text/html": "<div>\n<style scoped>\n    .dataframe tbody tr th:only-of-type {\n        vertical-align: middle;\n    }\n\n    .dataframe tbody tr th {\n        vertical-align: top;\n    }\n\n    .dataframe thead th {\n        text-align: right;\n    }\n</style>\n<table border=\"1\" class=\"dataframe\">\n  <thead>\n    <tr style=\"text-align: right;\">\n      <th></th>\n      <th>identifier</th>\n      <th>source</th>\n      <th>feature_type</th>\n      <th>start</th>\n      <th>end</th>\n      <th>score</th>\n      <th>strand</th>\n      <th>phase</th>\n      <th>attributes</th>\n      <th>Sequence</th>\n    </tr>\n  </thead>\n  <tbody>\n    <tr>\n      <th>0</th>\n      <td>A0A044RE18</td>\n      <td>SignalP-6.0</td>\n      <td>signal_peptide</td>\n      <td>1</td>\n      <td>20</td>\n      <td>0.844694</td>\n      <td>.</td>\n      <td>.</td>\n      <td>.</td>\n      <td>IEHDSICIADVDDACPEPSHTVMRLRERNDKKAHLIAKQHGLEIRG...</td>\n    </tr>\n    <tr>\n      <th>1</th>\n      <td>A0A0B7P9G0</td>\n      <td>SignalP-6.0</td>\n      <td>signal_peptide</td>\n      <td>1</td>\n      <td>20</td>\n      <td>0.999824</td>\n      <td>.</td>\n      <td>.</td>\n      <td>.</td>\n      <td>TSVDTSNKLLLQKANDFNLSQNLSSSRTRRTIANSFRIVGIRLEDE...</td>\n    </tr>\n    <tr>\n      <th>2</th>\n      <td>A0A0K2S4Q6</td>\n      <td>SignalP-6.0</td>\n      <td>signal_peptide</td>\n      <td>1</td>\n      <td>24</td>\n      <td>0.999847</td>\n      <td>.</td>\n      <td>.</td>\n      <td>.</td>\n      <td>VSGPSTVMGAVGESLSVQCRYEEKYKTFNKYWCRQPCLPIWHEMVE...</td>\n    </tr>\n    <tr>\n      <th>3</th>\n      <td>A0A0K3AWM6</td>\n      <td>SignalP-6.0</td>\n      <td>signal_peptide</td>\n      <td>1</td>\n      <td>16</td>\n      <td>0.999809</td>\n      <td>.</td>\n      <td>.</td>\n      <td>.</td>\n      <td>DQRLSSTSISSMNGFSTTRKCEHITIPMCKNLDYNQTVFPNLLGHT...</td>\n    </tr>\n    <tr>\n      <th>4</th>\n      <td>A0A0R4IKU3</td>\n      <td>SignalP-6.0</td>\n      <td>signal_peptide</td>\n      <td>1</td>\n      <td>22</td>\n      <td>0.999853</td>\n      <td>.</td>\n      <td>.</td>\n      <td>.</td>\n      <td>QDQSCCVHHAADIPRCRDACEQLASIRSESRLRHLLHRLPSYCPET...</td>\n    </tr>\n    <tr>\n      <th>...</th>\n      <td>...</td>\n      <td>...</td>\n      <td>...</td>\n      <td>...</td>\n      <td>...</td>\n      <td>...</td>\n      <td>...</td>\n      <td>...</td>\n      <td>...</td>\n      <td>...</td>\n    </tr>\n    <tr>\n      <th>4074</th>\n      <td>O08675</td>\n      <td>SignalP-6.0</td>\n      <td>signal_peptide</td>\n      <td>1</td>\n      <td>18</td>\n      <td>0.999954</td>\n      <td>.</td>\n      <td>.</td>\n      <td>.</td>\n      <td>CQSGINVSDNSAKPTLTIKSFNGGPQNTFEEFPLSDIEGWTGATTT...</td>\n    </tr>\n    <tr>\n      <th>4075</th>\n      <td>O08692</td>\n      <td>SignalP-6.0</td>\n      <td>signal_peptide</td>\n      <td>1</td>\n      <td>21</td>\n      <td>0.999849</td>\n      <td>.</td>\n      <td>.</td>\n      <td>.</td>\n      <td>LRQLRYEEIVDRAIEAYNQGRQGRPLFRLLSATPPSSQNPATNIPL...</td>\n    </tr>\n    <tr>\n      <th>4076</th>\n      <td>O08712</td>\n      <td>SignalP-6.0</td>\n      <td>signal_peptide</td>\n      <td>1</td>\n      <td>21</td>\n      <td>0.999857</td>\n      <td>.</td>\n      <td>.</td>\n      <td>.</td>\n      <td>ETLPPKYLHYDPETGHQLLCDKCAPGTYLKQHCTVRRKTLCVPCPD...</td>\n    </tr>\n    <tr>\n      <th>4077</th>\n      <td>O08762</td>\n      <td>SignalP-6.0</td>\n      <td>signal_peptide</td>\n      <td>1</td>\n      <td>21</td>\n      <td>0.999831</td>\n      <td>.</td>\n      <td>.</td>\n      <td>.</td>\n      <td>DPVSRSPLHRPHPSPPRSQHAHYLPSSRRPPRTPRFPLPLRIPAAQ...</td>\n    </tr>\n    <tr>\n      <th>4078</th>\n      <td>O08795</td>\n      <td>SignalP-6.0</td>\n      <td>signal_peptide</td>\n      <td>1</td>\n      <td>14</td>\n      <td>0.999760</td>\n      <td>.</td>\n      <td>.</td>\n      <td>.</td>\n      <td>VEVKRPRGVSLSNHHFYEESKPFTCLDGTATIPFDQVNDDYCDCKD...</td>\n    </tr>\n  </tbody>\n</table>\n<p>4079 rows × 10 columns</p>\n</div>"
     },
     "execution_count": 17,
     "metadata": {},
     "output_type": "execute_result"
    }
   ],
   "source": [
    "gff3 = pd.read_csv('../data/SP6/output.gff3', sep='\\t', comment='#', header=None)\n",
    "\n",
    "gff3.columns = [\n",
    "    'identifier', 'source', 'feature_type', 'start', 'end', \n",
    "    'score', 'strand', 'phase', 'attributes'\n",
    "]\n",
    "def extract_seqid(full_seqid):\n",
    "    return full_seqid.split('|')[-1].split(' ')[0]\n",
    "\n",
    "gff3['identifier'] = gff3['identifier'].apply(extract_seqid)\n",
    "gff3 = pd.merge(gff3, proc, on='identifier')\n",
    "gff3"
   ],
   "metadata": {
    "collapsed": false,
    "ExecuteTime": {
     "end_time": "2024-12-06T14:12:38.789200Z",
     "start_time": "2024-12-06T14:12:38.760485Z"
    }
   },
   "id": "ed1c55de9d1fa80c",
   "execution_count": 17
  },
  {
   "cell_type": "markdown",
   "source": [
    "### significant SignalP6 results"
   ],
   "metadata": {
    "collapsed": false
   },
   "id": "8caf80de9f3c55d0"
  },
  {
   "cell_type": "code",
   "outputs": [
    {
     "data": {
      "text/plain": "      identifier       source    feature_type  start  end     score strand  \\\n1     A0A0B7P9G0  SignalP-6.0  signal_peptide      1   20  0.999824      .   \n2     A0A0K2S4Q6  SignalP-6.0  signal_peptide      1   24  0.999847      .   \n3     A0A0K3AWM6  SignalP-6.0  signal_peptide      1   16  0.999809      .   \n4     A0A0R4IKU3  SignalP-6.0  signal_peptide      1   22  0.999853      .   \n5     A0A126GUP6  SignalP-6.0  signal_peptide      1   22  0.999823      .   \n...          ...          ...             ...    ...  ...       ...    ...   \n4074      O08675  SignalP-6.0  signal_peptide      1   18  0.999954      .   \n4075      O08692  SignalP-6.0  signal_peptide      1   21  0.999849      .   \n4076      O08712  SignalP-6.0  signal_peptide      1   21  0.999857      .   \n4077      O08762  SignalP-6.0  signal_peptide      1   21  0.999831      .   \n4078      O08795  SignalP-6.0  signal_peptide      1   14  0.999760      .   \n\n     phase attributes                                           Sequence  \n1        .          .  TSVDTSNKLLLQKANDFNLSQNLSSSRTRRTIANSFRIVGIRLEDE...  \n2        .          .  VSGPSTVMGAVGESLSVQCRYEEKYKTFNKYWCRQPCLPIWHEMVE...  \n3        .          .  DQRLSSTSISSMNGFSTTRKCEHITIPMCKNLDYNQTVFPNLLGHT...  \n4        .          .  QDQSCCVHHAADIPRCRDACEQLASIRSESRLRHLLHRLPSYCPET...  \n5        .          .  QEIFGYCRTPDENSGTCINLRECGYLFELLQSEEVTEQDRRFLQAS...  \n...    ...        ...                                                ...  \n4074     .          .  CQSGINVSDNSAKPTLTIKSFNGGPQNTFEEFPLSDIEGWTGATTT...  \n4075     .          .  LRQLRYEEIVDRAIEAYNQGRQGRPLFRLLSATPPSSQNPATNIPL...  \n4076     .          .  ETLPPKYLHYDPETGHQLLCDKCAPGTYLKQHCTVRRKTLCVPCPD...  \n4077     .          .  DPVSRSPLHRPHPSPPRSQHAHYLPSSRRPPRTPRFPLPLRIPAAQ...  \n4078     .          .  VEVKRPRGVSLSNHHFYEESKPFTCLDGTATIPFDQVNDDYCDCKD...  \n\n[3815 rows x 10 columns]",
      "text/html": "<div>\n<style scoped>\n    .dataframe tbody tr th:only-of-type {\n        vertical-align: middle;\n    }\n\n    .dataframe tbody tr th {\n        vertical-align: top;\n    }\n\n    .dataframe thead th {\n        text-align: right;\n    }\n</style>\n<table border=\"1\" class=\"dataframe\">\n  <thead>\n    <tr style=\"text-align: right;\">\n      <th></th>\n      <th>identifier</th>\n      <th>source</th>\n      <th>feature_type</th>\n      <th>start</th>\n      <th>end</th>\n      <th>score</th>\n      <th>strand</th>\n      <th>phase</th>\n      <th>attributes</th>\n      <th>Sequence</th>\n    </tr>\n  </thead>\n  <tbody>\n    <tr>\n      <th>1</th>\n      <td>A0A0B7P9G0</td>\n      <td>SignalP-6.0</td>\n      <td>signal_peptide</td>\n      <td>1</td>\n      <td>20</td>\n      <td>0.999824</td>\n      <td>.</td>\n      <td>.</td>\n      <td>.</td>\n      <td>TSVDTSNKLLLQKANDFNLSQNLSSSRTRRTIANSFRIVGIRLEDE...</td>\n    </tr>\n    <tr>\n      <th>2</th>\n      <td>A0A0K2S4Q6</td>\n      <td>SignalP-6.0</td>\n      <td>signal_peptide</td>\n      <td>1</td>\n      <td>24</td>\n      <td>0.999847</td>\n      <td>.</td>\n      <td>.</td>\n      <td>.</td>\n      <td>VSGPSTVMGAVGESLSVQCRYEEKYKTFNKYWCRQPCLPIWHEMVE...</td>\n    </tr>\n    <tr>\n      <th>3</th>\n      <td>A0A0K3AWM6</td>\n      <td>SignalP-6.0</td>\n      <td>signal_peptide</td>\n      <td>1</td>\n      <td>16</td>\n      <td>0.999809</td>\n      <td>.</td>\n      <td>.</td>\n      <td>.</td>\n      <td>DQRLSSTSISSMNGFSTTRKCEHITIPMCKNLDYNQTVFPNLLGHT...</td>\n    </tr>\n    <tr>\n      <th>4</th>\n      <td>A0A0R4IKU3</td>\n      <td>SignalP-6.0</td>\n      <td>signal_peptide</td>\n      <td>1</td>\n      <td>22</td>\n      <td>0.999853</td>\n      <td>.</td>\n      <td>.</td>\n      <td>.</td>\n      <td>QDQSCCVHHAADIPRCRDACEQLASIRSESRLRHLLHRLPSYCPET...</td>\n    </tr>\n    <tr>\n      <th>5</th>\n      <td>A0A126GUP6</td>\n      <td>SignalP-6.0</td>\n      <td>signal_peptide</td>\n      <td>1</td>\n      <td>22</td>\n      <td>0.999823</td>\n      <td>.</td>\n      <td>.</td>\n      <td>.</td>\n      <td>QEIFGYCRTPDENSGTCINLRECGYLFELLQSEEVTEQDRRFLQAS...</td>\n    </tr>\n    <tr>\n      <th>...</th>\n      <td>...</td>\n      <td>...</td>\n      <td>...</td>\n      <td>...</td>\n      <td>...</td>\n      <td>...</td>\n      <td>...</td>\n      <td>...</td>\n      <td>...</td>\n      <td>...</td>\n    </tr>\n    <tr>\n      <th>4074</th>\n      <td>O08675</td>\n      <td>SignalP-6.0</td>\n      <td>signal_peptide</td>\n      <td>1</td>\n      <td>18</td>\n      <td>0.999954</td>\n      <td>.</td>\n      <td>.</td>\n      <td>.</td>\n      <td>CQSGINVSDNSAKPTLTIKSFNGGPQNTFEEFPLSDIEGWTGATTT...</td>\n    </tr>\n    <tr>\n      <th>4075</th>\n      <td>O08692</td>\n      <td>SignalP-6.0</td>\n      <td>signal_peptide</td>\n      <td>1</td>\n      <td>21</td>\n      <td>0.999849</td>\n      <td>.</td>\n      <td>.</td>\n      <td>.</td>\n      <td>LRQLRYEEIVDRAIEAYNQGRQGRPLFRLLSATPPSSQNPATNIPL...</td>\n    </tr>\n    <tr>\n      <th>4076</th>\n      <td>O08712</td>\n      <td>SignalP-6.0</td>\n      <td>signal_peptide</td>\n      <td>1</td>\n      <td>21</td>\n      <td>0.999857</td>\n      <td>.</td>\n      <td>.</td>\n      <td>.</td>\n      <td>ETLPPKYLHYDPETGHQLLCDKCAPGTYLKQHCTVRRKTLCVPCPD...</td>\n    </tr>\n    <tr>\n      <th>4077</th>\n      <td>O08762</td>\n      <td>SignalP-6.0</td>\n      <td>signal_peptide</td>\n      <td>1</td>\n      <td>21</td>\n      <td>0.999831</td>\n      <td>.</td>\n      <td>.</td>\n      <td>.</td>\n      <td>DPVSRSPLHRPHPSPPRSQHAHYLPSSRRPPRTPRFPLPLRIPAAQ...</td>\n    </tr>\n    <tr>\n      <th>4078</th>\n      <td>O08795</td>\n      <td>SignalP-6.0</td>\n      <td>signal_peptide</td>\n      <td>1</td>\n      <td>14</td>\n      <td>0.999760</td>\n      <td>.</td>\n      <td>.</td>\n      <td>.</td>\n      <td>VEVKRPRGVSLSNHHFYEESKPFTCLDGTATIPFDQVNDDYCDCKD...</td>\n    </tr>\n  </tbody>\n</table>\n<p>3815 rows × 10 columns</p>\n</div>"
     },
     "execution_count": 18,
     "metadata": {},
     "output_type": "execute_result"
    }
   ],
   "source": [
    "significant_sp6_results = gff3[gff3['score'] >= 0.95]\n",
    "significant_sp6_results"
   ],
   "metadata": {
    "collapsed": false,
    "ExecuteTime": {
     "end_time": "2024-12-06T14:12:39.231105Z",
     "start_time": "2024-12-06T14:12:39.202120Z"
    }
   },
   "id": "81020b0f9c38aad3",
   "execution_count": 18
  },
  {
   "cell_type": "markdown",
   "source": [
    "## all sequences"
   ],
   "metadata": {
    "collapsed": false
   },
   "id": "175a2fe433d9dfef"
  },
  {
   "cell_type": "code",
   "outputs": [
    {
     "data": {
      "text/plain": "       identifier                                           combined  \\\n0      A0A023FDY8  [0.055755615234375, 0.0185089111328125, 0.1109...   \n1      A0A044RE18  [0.0186614990234375, 0.0379638671875, 0.036102...   \n2      A0A060XQP6  [0.10888671875, 0.012176513671875, 0.170166015...   \n3      A0A061ACU2  [0.036407470703125, -0.059844970703125, 0.0141...   \n4      A0A061I403  [0.0618896484375, 0.0238494873046875, -0.02001...   \n...           ...                                                ...   \n21479      W6RTA4  [0.1593017578125, 0.0726318359375, 0.033996582...   \n21480      X2JAU8  [0.0020542144775390625, -0.0240478515625, 0.04...   \n21481      X2JDY8  [0.0010547637939453125, -0.0033245086669921875...   \n21482      X4Y2L4  [0.036163330078125, -0.00980377197265625, 0.02...   \n21483      X5M5N0  [0.01593017578125, -0.009368896484375, 0.04309...   \n\n                                                Sequence  \n0      ENTQQEEQDYDYGTDTCPFPVLANKTNKAKFVGCHQKCNGGDQKLT...  \n1                                                    NaN  \n2      GTEADNDERAASLLVHLKGDKDGGGLTGSPDGVSAGTTDGTDSSKE...  \n3                                                    NaN  \n4                                                    NaN  \n...                                                  ...  \n21479                                                NaN  \n21480                                                NaN  \n21481                                                NaN  \n21482                                                NaN  \n21483                                                NaN  \n\n[21484 rows x 3 columns]",
      "text/html": "<div>\n<style scoped>\n    .dataframe tbody tr th:only-of-type {\n        vertical-align: middle;\n    }\n\n    .dataframe tbody tr th {\n        vertical-align: top;\n    }\n\n    .dataframe thead th {\n        text-align: right;\n    }\n</style>\n<table border=\"1\" class=\"dataframe\">\n  <thead>\n    <tr style=\"text-align: right;\">\n      <th></th>\n      <th>identifier</th>\n      <th>combined</th>\n      <th>Sequence</th>\n    </tr>\n  </thead>\n  <tbody>\n    <tr>\n      <th>0</th>\n      <td>A0A023FDY8</td>\n      <td>[0.055755615234375, 0.0185089111328125, 0.1109...</td>\n      <td>ENTQQEEQDYDYGTDTCPFPVLANKTNKAKFVGCHQKCNGGDQKLT...</td>\n    </tr>\n    <tr>\n      <th>1</th>\n      <td>A0A044RE18</td>\n      <td>[0.0186614990234375, 0.0379638671875, 0.036102...</td>\n      <td>NaN</td>\n    </tr>\n    <tr>\n      <th>2</th>\n      <td>A0A060XQP6</td>\n      <td>[0.10888671875, 0.012176513671875, 0.170166015...</td>\n      <td>GTEADNDERAASLLVHLKGDKDGGGLTGSPDGVSAGTTDGTDSSKE...</td>\n    </tr>\n    <tr>\n      <th>3</th>\n      <td>A0A061ACU2</td>\n      <td>[0.036407470703125, -0.059844970703125, 0.0141...</td>\n      <td>NaN</td>\n    </tr>\n    <tr>\n      <th>4</th>\n      <td>A0A061I403</td>\n      <td>[0.0618896484375, 0.0238494873046875, -0.02001...</td>\n      <td>NaN</td>\n    </tr>\n    <tr>\n      <th>...</th>\n      <td>...</td>\n      <td>...</td>\n      <td>...</td>\n    </tr>\n    <tr>\n      <th>21479</th>\n      <td>W6RTA4</td>\n      <td>[0.1593017578125, 0.0726318359375, 0.033996582...</td>\n      <td>NaN</td>\n    </tr>\n    <tr>\n      <th>21480</th>\n      <td>X2JAU8</td>\n      <td>[0.0020542144775390625, -0.0240478515625, 0.04...</td>\n      <td>NaN</td>\n    </tr>\n    <tr>\n      <th>21481</th>\n      <td>X2JDY8</td>\n      <td>[0.0010547637939453125, -0.0033245086669921875...</td>\n      <td>NaN</td>\n    </tr>\n    <tr>\n      <th>21482</th>\n      <td>X4Y2L4</td>\n      <td>[0.036163330078125, -0.00980377197265625, 0.02...</td>\n      <td>NaN</td>\n    </tr>\n    <tr>\n      <th>21483</th>\n      <td>X5M5N0</td>\n      <td>[0.01593017578125, -0.009368896484375, 0.04309...</td>\n      <td>NaN</td>\n    </tr>\n  </tbody>\n</table>\n<p>21484 rows × 3 columns</p>\n</div>"
     },
     "execution_count": 19,
     "metadata": {},
     "output_type": "execute_result"
    }
   ],
   "source": [
    "# all seqs with their annotation\n",
    "all = pd.read_csv('../data/nontox_all_embeds.csv')\n",
    "all = pd.merge(all, significant_sp6_results[['identifier', 'Sequence']], on='identifier', how='left')\n",
    "all"
   ],
   "metadata": {
    "collapsed": false,
    "ExecuteTime": {
     "end_time": "2024-12-06T14:12:43.402497Z",
     "start_time": "2024-12-06T14:12:39.638486Z"
    }
   },
   "id": "6ce19b3de864f47e",
   "execution_count": 19
  },
  {
   "cell_type": "markdown",
   "source": [
    "## cleave off signal peptides based off of Uniprot annotation"
   ],
   "metadata": {
    "collapsed": false
   },
   "id": "605f1a6bb9998db6"
  },
  {
   "cell_type": "code",
   "outputs": [],
   "source": [
    "# def cleave_signal_peptide(row):\n",
    "#     if pd.notna(row['Signal peptide']):\n",
    "#         match = re.search(r'SIGNAL\\s+\\d+\\.\\.(\\d+)', row['Signal peptide'])\n",
    "#         if match:\n",
    "#             end = int(match.group(1))\n",
    "#             cleaved_sequence = row['Sequence'][end:]\n",
    "#             return cleaved_sequence\n",
    "#         else:\n",
    "#             # if end = ? -> returns whole sequence\n",
    "#             return np.nan\n",
    "#     else:\n",
    "#         # if no SP annotation is in there, just put the same seq\n",
    "#         return np.nan\n",
    "# \n",
    "# \n",
    "# #df_copy = all.copy()\n",
    "# all['annotation cleaved Sequence'] = all.apply(cleave_signal_peptide, axis=1)\n",
    "# \n",
    "# #diff_sp_annotation = df_copy\n",
    "# #diff_sp_annotation\n",
    "# all"
   ],
   "metadata": {
    "collapsed": false,
    "ExecuteTime": {
     "end_time": "2024-12-06T14:12:43.410873Z",
     "start_time": "2024-12-06T14:12:43.405622Z"
    }
   },
   "id": "313b22ab3368d6f2",
   "execution_count": 20
  },
  {
   "cell_type": "code",
   "outputs": [],
   "source": [
    "# with open('data/mature_seqs.fasta', 'w') as f:\n",
    "#     for _, row in all.iterrows():\n",
    "#         \n",
    "#         # if the data has an annotation, use the annotation\n",
    "#         if not pd.isna(row['annotation cleaved Sequence']):\n",
    "#             f.write(f\">{row['Entry Name']}\\n\"\n",
    "#                     f\"{row['annotation cleaved Sequence']}\\n\")\n",
    "#             continue\n",
    "#         \n",
    "#         # if the data has no annotation but SP6 predicted a significant SP, use this\n",
    "#         elif not pd.isna(row['SP6 Sequence']):\n",
    "#             f.write(f\">{row['Entry Name']}\\n\"\n",
    "#                     f\"{row['SP6 Sequence']}\\n\")\n",
    "#             continue\n",
    "#         \n",
    "#         # in any other case, just use the normal sequence\n",
    "#         else:\n",
    "#             f.write(f\">{row['Entry Name']}\\n\"\n",
    "#                     f\"{row['Sequence']}\\n\")\n",
    "#             continue\n"
   ],
   "metadata": {
    "collapsed": false,
    "ExecuteTime": {
     "end_time": "2024-12-06T14:12:43.417536Z",
     "start_time": "2024-12-06T14:12:43.413458Z"
    }
   },
   "id": "a018c48ea0c59a11",
   "execution_count": 21
  },
  {
   "cell_type": "code",
   "outputs": [
    {
     "data": {
      "text/plain": "       identifier                                           Sequence\n0      A0A026W182  MMKMKQQGLVADLLPNIRVMKTFGHFVFNYYNDNSSKYLHKVYCCV...\n1      A0A044RE18  MYWQLVRILVLFDCLQKILAIEHDSICIADVDDACPEPSHTVMRLR...\n2      A0A061ACU2  MTVPPLLKSCVVKLLLPAALLAAAIIRPSFLSIGYVLLALVSAVLP...\n3      A0A061AE05  MLTPRDENNEGDAMPMLKKPRYSSLSGQSTNITYQEHTISREERAA...\n4      A0A061I403  MPMASVIAVAEPKWISVWGRFLWLTLLSMALGSLLALLLPLGAVEE...\n...           ...                                                ...\n52466      Q9JJR9  MFYSGLLTEGGRKETDMREAASLRQQRRMKQAVQFIHKDSADLLPL...\n52467      Q9U8G7  MSGFDVTKTFNRFTQRAGELVNKNEKTSYPTRTSDLIHEIDQMKAW...\n52468      Q9UF83  MRRPSTASLTRTPSRASPTRMPSRASLKMTPFRASLTKMESTALLR...\n52469      Q9VVR0  MPFANEGNDPIAARLSKCYWNLSSPFLKDVIPKKRPSKAFNRKPPT...\n52470      Q9Z1R4  MFLRRLGGWLPRPWGRKKSTKADLPAPEPRWVDSSPENSGSDWDSA...\n\n[52471 rows x 2 columns]",
      "text/html": "<div>\n<style scoped>\n    .dataframe tbody tr th:only-of-type {\n        vertical-align: middle;\n    }\n\n    .dataframe tbody tr th {\n        vertical-align: top;\n    }\n\n    .dataframe thead th {\n        text-align: right;\n    }\n</style>\n<table border=\"1\" class=\"dataframe\">\n  <thead>\n    <tr style=\"text-align: right;\">\n      <th></th>\n      <th>identifier</th>\n      <th>Sequence</th>\n    </tr>\n  </thead>\n  <tbody>\n    <tr>\n      <th>0</th>\n      <td>A0A026W182</td>\n      <td>MMKMKQQGLVADLLPNIRVMKTFGHFVFNYYNDNSSKYLHKVYCCV...</td>\n    </tr>\n    <tr>\n      <th>1</th>\n      <td>A0A044RE18</td>\n      <td>MYWQLVRILVLFDCLQKILAIEHDSICIADVDDACPEPSHTVMRLR...</td>\n    </tr>\n    <tr>\n      <th>2</th>\n      <td>A0A061ACU2</td>\n      <td>MTVPPLLKSCVVKLLLPAALLAAAIIRPSFLSIGYVLLALVSAVLP...</td>\n    </tr>\n    <tr>\n      <th>3</th>\n      <td>A0A061AE05</td>\n      <td>MLTPRDENNEGDAMPMLKKPRYSSLSGQSTNITYQEHTISREERAA...</td>\n    </tr>\n    <tr>\n      <th>4</th>\n      <td>A0A061I403</td>\n      <td>MPMASVIAVAEPKWISVWGRFLWLTLLSMALGSLLALLLPLGAVEE...</td>\n    </tr>\n    <tr>\n      <th>...</th>\n      <td>...</td>\n      <td>...</td>\n    </tr>\n    <tr>\n      <th>52466</th>\n      <td>Q9JJR9</td>\n      <td>MFYSGLLTEGGRKETDMREAASLRQQRRMKQAVQFIHKDSADLLPL...</td>\n    </tr>\n    <tr>\n      <th>52467</th>\n      <td>Q9U8G7</td>\n      <td>MSGFDVTKTFNRFTQRAGELVNKNEKTSYPTRTSDLIHEIDQMKAW...</td>\n    </tr>\n    <tr>\n      <th>52468</th>\n      <td>Q9UF83</td>\n      <td>MRRPSTASLTRTPSRASPTRMPSRASLKMTPFRASLTKMESTALLR...</td>\n    </tr>\n    <tr>\n      <th>52469</th>\n      <td>Q9VVR0</td>\n      <td>MPFANEGNDPIAARLSKCYWNLSSPFLKDVIPKKRPSKAFNRKPPT...</td>\n    </tr>\n    <tr>\n      <th>52470</th>\n      <td>Q9Z1R4</td>\n      <td>MFLRRLGGWLPRPWGRKKSTKADLPAPEPRWVDSSPENSGSDWDSA...</td>\n    </tr>\n  </tbody>\n</table>\n<p>52471 rows × 2 columns</p>\n</div>"
     },
     "execution_count": 22,
     "metadata": {},
     "output_type": "execute_result"
    }
   ],
   "source": [
    "ids = []\n",
    "sequences = []\n",
    "\n",
    "# Parse the FASTA file\n",
    "for record in SeqIO.parse('../data/nontox_all.fasta', \"fasta\"):\n",
    "    ids.append(record.id)\n",
    "    sequences.append(str(record.seq))\n",
    "\n",
    "# Create a DataFrame\n",
    "df = pd.DataFrame({\n",
    "    'identifier': ids,\n",
    "    'Sequence': sequences\n",
    "})\n",
    "\n",
    "df['identifier'] = df['identifier'].apply(lambda x: x.split('|')[1].strip())\n",
    "df"
   ],
   "metadata": {
    "collapsed": false,
    "ExecuteTime": {
     "end_time": "2024-12-06T14:12:43.972699Z",
     "start_time": "2024-12-06T14:12:43.421199Z"
    }
   },
   "id": "41d61825461a568a",
   "execution_count": 22
  },
  {
   "cell_type": "code",
   "outputs": [
    {
     "data": {
      "text/plain": "       identifier                                           combined  \\\n0      A0A023FDY8  [0.055755615234375, 0.0185089111328125, 0.1109...   \n1      A0A044RE18  [0.0186614990234375, 0.0379638671875, 0.036102...   \n2      A0A060XQP6  [0.10888671875, 0.012176513671875, 0.170166015...   \n3      A0A061ACU2  [0.036407470703125, -0.059844970703125, 0.0141...   \n4      A0A061I403  [0.0618896484375, 0.0238494873046875, -0.02001...   \n...           ...                                                ...   \n21479      W6RTA4  [0.1593017578125, 0.0726318359375, 0.033996582...   \n21480      X2JAU8  [0.0020542144775390625, -0.0240478515625, 0.04...   \n21481      X2JDY8  [0.0010547637939453125, -0.0033245086669921875...   \n21482      X4Y2L4  [0.036163330078125, -0.00980377197265625, 0.02...   \n21483      X5M5N0  [0.01593017578125, -0.009368896484375, 0.04309...   \n\n                                                Sequence  \n0      ENTQQEEQDYDYGTDTCPFPVLANKTNKAKFVGCHQKCNGGDQKLT...  \n1      MYWQLVRILVLFDCLQKILAIEHDSICIADVDDACPEPSHTVMRLR...  \n2      GTEADNDERAASLLVHLKGDKDGGGLTGSPDGVSAGTTDGTDSSKE...  \n3      MTVPPLLKSCVVKLLLPAALLAAAIIRPSFLSIGYVLLALVSAVLP...  \n4      MPMASVIAVAEPKWISVWGRFLWLTLLSMALGSLLALLLPLGAVEE...  \n...                                                  ...  \n21479  MSSWFSYFGFSKGPPLEEVREESEEDAQVPEQVVSKNTEEEIADAI...  \n21480  MQPPPRKGNYVKFLKNLHTEQVAKLQLKNQHECDLLEDIRQFTIKR...  \n21481  MGGGKNVRRGLEPLEFEECIVDSPDFRENLNRHEKELDHTSHQIKR...  \n21482  MKEIAVTIDDKNVIASVSESFHGVAFDASLFSPKGLWSFVDITSPK...  \n21483  MPDSITNGGRPPAPPSSVSSTTASTTGNFGTRRRLVNRIKKVDELH...  \n\n[21484 rows x 3 columns]",
      "text/html": "<div>\n<style scoped>\n    .dataframe tbody tr th:only-of-type {\n        vertical-align: middle;\n    }\n\n    .dataframe tbody tr th {\n        vertical-align: top;\n    }\n\n    .dataframe thead th {\n        text-align: right;\n    }\n</style>\n<table border=\"1\" class=\"dataframe\">\n  <thead>\n    <tr style=\"text-align: right;\">\n      <th></th>\n      <th>identifier</th>\n      <th>combined</th>\n      <th>Sequence</th>\n    </tr>\n  </thead>\n  <tbody>\n    <tr>\n      <th>0</th>\n      <td>A0A023FDY8</td>\n      <td>[0.055755615234375, 0.0185089111328125, 0.1109...</td>\n      <td>ENTQQEEQDYDYGTDTCPFPVLANKTNKAKFVGCHQKCNGGDQKLT...</td>\n    </tr>\n    <tr>\n      <th>1</th>\n      <td>A0A044RE18</td>\n      <td>[0.0186614990234375, 0.0379638671875, 0.036102...</td>\n      <td>MYWQLVRILVLFDCLQKILAIEHDSICIADVDDACPEPSHTVMRLR...</td>\n    </tr>\n    <tr>\n      <th>2</th>\n      <td>A0A060XQP6</td>\n      <td>[0.10888671875, 0.012176513671875, 0.170166015...</td>\n      <td>GTEADNDERAASLLVHLKGDKDGGGLTGSPDGVSAGTTDGTDSSKE...</td>\n    </tr>\n    <tr>\n      <th>3</th>\n      <td>A0A061ACU2</td>\n      <td>[0.036407470703125, -0.059844970703125, 0.0141...</td>\n      <td>MTVPPLLKSCVVKLLLPAALLAAAIIRPSFLSIGYVLLALVSAVLP...</td>\n    </tr>\n    <tr>\n      <th>4</th>\n      <td>A0A061I403</td>\n      <td>[0.0618896484375, 0.0238494873046875, -0.02001...</td>\n      <td>MPMASVIAVAEPKWISVWGRFLWLTLLSMALGSLLALLLPLGAVEE...</td>\n    </tr>\n    <tr>\n      <th>...</th>\n      <td>...</td>\n      <td>...</td>\n      <td>...</td>\n    </tr>\n    <tr>\n      <th>21479</th>\n      <td>W6RTA4</td>\n      <td>[0.1593017578125, 0.0726318359375, 0.033996582...</td>\n      <td>MSSWFSYFGFSKGPPLEEVREESEEDAQVPEQVVSKNTEEEIADAI...</td>\n    </tr>\n    <tr>\n      <th>21480</th>\n      <td>X2JAU8</td>\n      <td>[0.0020542144775390625, -0.0240478515625, 0.04...</td>\n      <td>MQPPPRKGNYVKFLKNLHTEQVAKLQLKNQHECDLLEDIRQFTIKR...</td>\n    </tr>\n    <tr>\n      <th>21481</th>\n      <td>X2JDY8</td>\n      <td>[0.0010547637939453125, -0.0033245086669921875...</td>\n      <td>MGGGKNVRRGLEPLEFEECIVDSPDFRENLNRHEKELDHTSHQIKR...</td>\n    </tr>\n    <tr>\n      <th>21482</th>\n      <td>X4Y2L4</td>\n      <td>[0.036163330078125, -0.00980377197265625, 0.02...</td>\n      <td>MKEIAVTIDDKNVIASVSESFHGVAFDASLFSPKGLWSFVDITSPK...</td>\n    </tr>\n    <tr>\n      <th>21483</th>\n      <td>X5M5N0</td>\n      <td>[0.01593017578125, -0.009368896484375, 0.04309...</td>\n      <td>MPDSITNGGRPPAPPSSVSSTTASTTGNFGTRRRLVNRIKKVDELH...</td>\n    </tr>\n  </tbody>\n</table>\n<p>21484 rows × 3 columns</p>\n</div>"
     },
     "execution_count": 23,
     "metadata": {},
     "output_type": "execute_result"
    }
   ],
   "source": [
    "all['Sequence'] = all['Sequence'].fillna(all['identifier'].map(df.set_index('identifier')['Sequence']))\n",
    "all"
   ],
   "metadata": {
    "collapsed": false,
    "ExecuteTime": {
     "end_time": "2024-12-06T14:12:44.029805Z",
     "start_time": "2024-12-06T14:12:43.975837Z"
    }
   },
   "id": "519635f55e46a00d",
   "execution_count": 23
  },
  {
   "cell_type": "code",
   "outputs": [],
   "source": [
    "all.to_csv('../data/nontox_all_embeds.csv')"
   ],
   "metadata": {
    "collapsed": false,
    "ExecuteTime": {
     "end_time": "2024-12-06T14:22:36.283587Z",
     "start_time": "2024-12-06T14:22:25.608896Z"
    }
   },
   "id": "c6c7496df2eca627",
   "execution_count": 26
  },
  {
   "cell_type": "code",
   "outputs": [],
   "source": [
    "def create_fasta(df, output_file):\n",
    "    with open(output_file, 'w') as f:\n",
    "        for _, row in df.iterrows():\n",
    "            f.write(f\">{row['identifier']}\\n\")\n",
    "            f.write(f\"{row['Sequence']}\\n\")"
   ],
   "metadata": {
    "collapsed": false,
    "ExecuteTime": {
     "end_time": "2024-12-06T14:23:23.177883Z",
     "start_time": "2024-12-06T14:23:23.174033Z"
    }
   },
   "id": "82c31d1e420af0e1",
   "execution_count": 27
  },
  {
   "cell_type": "code",
   "outputs": [],
   "source": [
    "create_fasta(all, '../data/reduced_nontox_noSP.fasta')"
   ],
   "metadata": {
    "collapsed": false,
    "ExecuteTime": {
     "end_time": "2024-12-06T14:29:34.794746Z",
     "start_time": "2024-12-06T14:29:33.194496Z"
    }
   },
   "id": "ee27db19639df0fa",
   "execution_count": 28
  },
  {
   "cell_type": "code",
   "outputs": [],
   "source": [],
   "metadata": {
    "collapsed": false
   },
   "id": "760580e7174e9ab1"
  }
 ],
 "metadata": {
  "kernelspec": {
   "display_name": "Python 3",
   "language": "python",
   "name": "python3"
  },
  "language_info": {
   "codemirror_mode": {
    "name": "ipython",
    "version": 2
   },
   "file_extension": ".py",
   "mimetype": "text/x-python",
   "name": "python",
   "nbconvert_exporter": "python",
   "pygments_lexer": "ipython2",
   "version": "2.7.6"
  }
 },
 "nbformat": 4,
 "nbformat_minor": 5
}
