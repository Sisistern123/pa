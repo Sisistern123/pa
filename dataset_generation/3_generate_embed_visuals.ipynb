{
 "cells": [
  {
   "cell_type": "code",
   "execution_count": 3,
   "id": "initial_id",
   "metadata": {
    "collapsed": true,
    "ExecuteTime": {
     "end_time": "2024-11-22T10:31:16.472239Z",
     "start_time": "2024-11-22T10:31:02.032049Z"
    }
   },
   "outputs": [],
   "source": [
    "import pandas as pd"
   ]
  },
  {
   "cell_type": "code",
   "outputs": [
    {
     "data": {
      "text/plain": "       Entry                                      Protein names  \\\n0     P12797  Megascoliakinin (MBK) (Thr6-bradykinin-Lys-Ala...   \n1     A0F0C2                                        Mesotoxin-1   \n2     P0DQJ1                                U-Asilidin(1)-Eru1a   \n3     P0DQI8                                U-Asilidin(1)-Mar1a   \n4     P0CI05                               Alpha-conotoxin TiIA   \n...      ...                                                ...   \n5176  D2Y202  Mu-theraphotoxin-Hhn2f (Mu-TRTX-Hhn2f) (Hainan...   \n5177  P56676  Mu/omega-theraphotoxin-Hs1a (Mu/omega-TRTX-Hs1...   \n5178  D2Y1Z2  Mu-theraphotoxin-Hhn2q (Mu-TRTX-Hhn2q) (Hainan...   \n5179  D2Y203  Mu-theraphotoxin-Hhn2g (Mu-TRTX-Hhn2g) (Hainan...   \n5180  P68426  U6-theraphotoxin-Hs1a (U6-TRTX-Hs1a) (SHT-I) (...   \n\n                                               Organism  \\\n0     Megascolia flavifrons (Garden dagger wasp) (So...   \n1     Mesobuthus martensii (Manchurian scorpion) (Bu...   \n2     Eutolmus rufibarbis (Golden-tabbed robberfly) ...   \n3     Machimus arthriticus (Breck robberfly) (Asilus...   \n4                        Conus tinianus (Variable cone)   \n...                                                 ...   \n5176  Cyriopagopus hainanus (Chinese bird spider) (H...   \n5177  Cyriopagopus schmidti (Chinese bird spider) (H...   \n5178  Cyriopagopus hainanus (Chinese bird spider) (H...   \n5179  Cyriopagopus hainanus (Chinese bird spider) (H...   \n5180  Cyriopagopus schmidti (Chinese bird spider) (H...   \n\n                                       Protein families  \\\n0                     Bradykinin-related peptide family   \n1     Long (3 C-C) scorpion toxin superfamily, Sodiu...   \n2                                     Asilidin-1 family   \n3                                     Asilidin-1 family   \n4                               Conotoxin A superfamily   \n...                                                 ...   \n5176  Neurotoxin 10 (Hwtx-1) family, 15 (Hntx-3) sub...   \n5177  Neurotoxin 10 (Hwtx-1) family, 23 (HwTx-I) sub...   \n5178  Neurotoxin 10 (Hwtx-1) family, 51 (Hntx-8) sub...   \n5179  Neurotoxin 10 (Hwtx-1) family, 15 (Hntx-3) sub...   \n5180  Neurotoxin 10 (Hwtx-1) family, 51 (Hntx-8) sub...   \n\n                                               Sequence  \\\n0                                           RPPGFTPFRKA   \n1     MKILTVFMIFIANFLNMMQVFSVKDRFLIINGSYELCVYAENLGED...   \n2     MANYIDVLSFLAIICATVLATLAQDCSPEGARCVHDSECCFNECID...   \n3     MANYIEVFSVLAIIFATVLAALAQDCSPEGAQCVRDSECCYNECID...   \n4                                      GGCCSHPACQNNPDYC   \n...                                                 ...   \n5176  MKASMFLALAGLVLLFVVGYASESEEKEFPIELLSKIFAVDVFKGE...   \n5177  MRASMFLALAGLVLLFVVCYASESEEKEFPRELLFKFFAVDDFKGE...   \n5178  MKASMFLALAGLVLLFVVGYASESEEKEFPRELLSKIFAVDDFKGE...   \n5179  MKASMYLALAGLVLLFVVGYASESEEKEFPRELLSKIFAVDDFKGE...   \n5180  MKASMFLALAGLVLLFVVCYASESEEKEFPRELLSTIFAVDDFKGE...   \n\n                             Signal peptide  \\\n0                                       NaN   \n1     SIGNAL 1..22; /evidence=\"ECO:0000255\"   \n2     SIGNAL 1..23; /evidence=\"ECO:0000255\"   \n3     SIGNAL 1..23; /evidence=\"ECO:0000255\"   \n4                                       NaN   \n...                                     ...   \n5176  SIGNAL 1..21; /evidence=\"ECO:0000255\"   \n5177  SIGNAL 1..21; /evidence=\"ECO:0000255\"   \n5178  SIGNAL 1..21; /evidence=\"ECO:0000255\"   \n5179  SIGNAL 1..21; /evidence=\"ECO:0000255\"   \n5180  SIGNAL 1..21; /evidence=\"ECO:0000255\"   \n\n                                          Sequence_noSP  \\\n0                                           RPPGFTPFRKA   \n1     VKDRFLIINGSYELCVYAENLGEDCENLCKQQKATDGFCRQPHCFC...   \n2                          QDCSPEGARCVHDSECCFNECIDSLCQP   \n3                          QDCSPEGAQCVRDSECCYNECIDSLCQP   \n4                                      GGCCSHPACQNNPDYC   \n...                                                 ...   \n5176  SESEEKEFPIELLSKIFAVDVFKGEERGCRGFGDSCTPGKNECCPN...   \n5177  SESEEKEFPRELLFKFFAVDDFKGEERACKGVFDACTPGKNECCPN...   \n5178  SESEEKEFPRELLSKIFAVDDFKGEERGCKGFGDSCTPEKNECCPN...   \n5179  SESEEKEFPRELLSKIFAVDDFKGEERGCKGFGDSCTPGKNERCPN...   \n5180  SESEEKEFPRELLSTIFAVDDFKGEERECLGIFKACTPGKNECCSN...   \n\n                           new_protein_family shortened_label  manual_labels  \\\n0                                         NaN             NaN             -1   \n1                                         NaN             NaN             -1   \n2                                         NaN             NaN             -1   \n3                                         NaN             NaN             -1   \n4                                         NaN             NaN             -1   \n...                                       ...             ...            ...   \n5176  Neurotoxin 10 (Hwtx-1, Hntx-1/3) family          HNTX13             21   \n5177                                      NaN             NaN             -1   \n5178                                      NaN             NaN             -1   \n5179  Neurotoxin 10 (Hwtx-1, Hntx-1/3) family          HNTX13             21   \n5180                                      NaN             NaN             -1   \n\n      mmseqs2_label  embed_label  \\\n0                -1           -1   \n1                -1           -1   \n2                -1           -1   \n3                -1           -1   \n4                -1           -1   \n...             ...          ...   \n5176             36           24   \n5177             36           24   \n5178             36           24   \n5179             36           30   \n5180             36           30   \n\n                                               combined  \n0     [0.07187523692846298, 0.03489166870713234, -0....  \n1     [0.06908608227968216, 0.0002603373723104596, 0...  \n2     [0.14173267781734467, 0.07133115082979202, 0.0...  \n3     [0.1534920632839203, 0.06670717895030975, 0.07...  \n4     [0.1323172003030777, 0.07498660683631897, 0.00...  \n...                                                 ...  \n5176  [0.024342041462659836, 0.011955960653722286, 0...  \n5177  [0.04243668168783188, -0.0048881047405302525, ...  \n5178  [0.03860948979854584, -0.008861410431563854, 0...  \n5179  [0.03514784947037697, -0.0030051174107939005, ...  \n5180  [0.0428883396089077, -0.033054694533348083, 0....  \n\n[5181 rows x 13 columns]",
      "text/html": "<div>\n<style scoped>\n    .dataframe tbody tr th:only-of-type {\n        vertical-align: middle;\n    }\n\n    .dataframe tbody tr th {\n        vertical-align: top;\n    }\n\n    .dataframe thead th {\n        text-align: right;\n    }\n</style>\n<table border=\"1\" class=\"dataframe\">\n  <thead>\n    <tr style=\"text-align: right;\">\n      <th></th>\n      <th>Entry</th>\n      <th>Protein names</th>\n      <th>Organism</th>\n      <th>Protein families</th>\n      <th>Sequence</th>\n      <th>Signal peptide</th>\n      <th>Sequence_noSP</th>\n      <th>new_protein_family</th>\n      <th>shortened_label</th>\n      <th>manual_labels</th>\n      <th>mmseqs2_label</th>\n      <th>embed_label</th>\n      <th>combined</th>\n    </tr>\n  </thead>\n  <tbody>\n    <tr>\n      <th>0</th>\n      <td>P12797</td>\n      <td>Megascoliakinin (MBK) (Thr6-bradykinin-Lys-Ala...</td>\n      <td>Megascolia flavifrons (Garden dagger wasp) (So...</td>\n      <td>Bradykinin-related peptide family</td>\n      <td>RPPGFTPFRKA</td>\n      <td>NaN</td>\n      <td>RPPGFTPFRKA</td>\n      <td>NaN</td>\n      <td>NaN</td>\n      <td>-1</td>\n      <td>-1</td>\n      <td>-1</td>\n      <td>[0.07187523692846298, 0.03489166870713234, -0....</td>\n    </tr>\n    <tr>\n      <th>1</th>\n      <td>A0F0C2</td>\n      <td>Mesotoxin-1</td>\n      <td>Mesobuthus martensii (Manchurian scorpion) (Bu...</td>\n      <td>Long (3 C-C) scorpion toxin superfamily, Sodiu...</td>\n      <td>MKILTVFMIFIANFLNMMQVFSVKDRFLIINGSYELCVYAENLGED...</td>\n      <td>SIGNAL 1..22; /evidence=\"ECO:0000255\"</td>\n      <td>VKDRFLIINGSYELCVYAENLGEDCENLCKQQKATDGFCRQPHCFC...</td>\n      <td>NaN</td>\n      <td>NaN</td>\n      <td>-1</td>\n      <td>-1</td>\n      <td>-1</td>\n      <td>[0.06908608227968216, 0.0002603373723104596, 0...</td>\n    </tr>\n    <tr>\n      <th>2</th>\n      <td>P0DQJ1</td>\n      <td>U-Asilidin(1)-Eru1a</td>\n      <td>Eutolmus rufibarbis (Golden-tabbed robberfly) ...</td>\n      <td>Asilidin-1 family</td>\n      <td>MANYIDVLSFLAIICATVLATLAQDCSPEGARCVHDSECCFNECID...</td>\n      <td>SIGNAL 1..23; /evidence=\"ECO:0000255\"</td>\n      <td>QDCSPEGARCVHDSECCFNECIDSLCQP</td>\n      <td>NaN</td>\n      <td>NaN</td>\n      <td>-1</td>\n      <td>-1</td>\n      <td>-1</td>\n      <td>[0.14173267781734467, 0.07133115082979202, 0.0...</td>\n    </tr>\n    <tr>\n      <th>3</th>\n      <td>P0DQI8</td>\n      <td>U-Asilidin(1)-Mar1a</td>\n      <td>Machimus arthriticus (Breck robberfly) (Asilus...</td>\n      <td>Asilidin-1 family</td>\n      <td>MANYIEVFSVLAIIFATVLAALAQDCSPEGAQCVRDSECCYNECID...</td>\n      <td>SIGNAL 1..23; /evidence=\"ECO:0000255\"</td>\n      <td>QDCSPEGAQCVRDSECCYNECIDSLCQP</td>\n      <td>NaN</td>\n      <td>NaN</td>\n      <td>-1</td>\n      <td>-1</td>\n      <td>-1</td>\n      <td>[0.1534920632839203, 0.06670717895030975, 0.07...</td>\n    </tr>\n    <tr>\n      <th>4</th>\n      <td>P0CI05</td>\n      <td>Alpha-conotoxin TiIA</td>\n      <td>Conus tinianus (Variable cone)</td>\n      <td>Conotoxin A superfamily</td>\n      <td>GGCCSHPACQNNPDYC</td>\n      <td>NaN</td>\n      <td>GGCCSHPACQNNPDYC</td>\n      <td>NaN</td>\n      <td>NaN</td>\n      <td>-1</td>\n      <td>-1</td>\n      <td>-1</td>\n      <td>[0.1323172003030777, 0.07498660683631897, 0.00...</td>\n    </tr>\n    <tr>\n      <th>...</th>\n      <td>...</td>\n      <td>...</td>\n      <td>...</td>\n      <td>...</td>\n      <td>...</td>\n      <td>...</td>\n      <td>...</td>\n      <td>...</td>\n      <td>...</td>\n      <td>...</td>\n      <td>...</td>\n      <td>...</td>\n      <td>...</td>\n    </tr>\n    <tr>\n      <th>5176</th>\n      <td>D2Y202</td>\n      <td>Mu-theraphotoxin-Hhn2f (Mu-TRTX-Hhn2f) (Hainan...</td>\n      <td>Cyriopagopus hainanus (Chinese bird spider) (H...</td>\n      <td>Neurotoxin 10 (Hwtx-1) family, 15 (Hntx-3) sub...</td>\n      <td>MKASMFLALAGLVLLFVVGYASESEEKEFPIELLSKIFAVDVFKGE...</td>\n      <td>SIGNAL 1..21; /evidence=\"ECO:0000255\"</td>\n      <td>SESEEKEFPIELLSKIFAVDVFKGEERGCRGFGDSCTPGKNECCPN...</td>\n      <td>Neurotoxin 10 (Hwtx-1, Hntx-1/3) family</td>\n      <td>HNTX13</td>\n      <td>21</td>\n      <td>36</td>\n      <td>24</td>\n      <td>[0.024342041462659836, 0.011955960653722286, 0...</td>\n    </tr>\n    <tr>\n      <th>5177</th>\n      <td>P56676</td>\n      <td>Mu/omega-theraphotoxin-Hs1a (Mu/omega-TRTX-Hs1...</td>\n      <td>Cyriopagopus schmidti (Chinese bird spider) (H...</td>\n      <td>Neurotoxin 10 (Hwtx-1) family, 23 (HwTx-I) sub...</td>\n      <td>MRASMFLALAGLVLLFVVCYASESEEKEFPRELLFKFFAVDDFKGE...</td>\n      <td>SIGNAL 1..21; /evidence=\"ECO:0000255\"</td>\n      <td>SESEEKEFPRELLFKFFAVDDFKGEERACKGVFDACTPGKNECCPN...</td>\n      <td>NaN</td>\n      <td>NaN</td>\n      <td>-1</td>\n      <td>36</td>\n      <td>24</td>\n      <td>[0.04243668168783188, -0.0048881047405302525, ...</td>\n    </tr>\n    <tr>\n      <th>5178</th>\n      <td>D2Y1Z2</td>\n      <td>Mu-theraphotoxin-Hhn2q (Mu-TRTX-Hhn2q) (Hainan...</td>\n      <td>Cyriopagopus hainanus (Chinese bird spider) (H...</td>\n      <td>Neurotoxin 10 (Hwtx-1) family, 51 (Hntx-8) sub...</td>\n      <td>MKASMFLALAGLVLLFVVGYASESEEKEFPRELLSKIFAVDDFKGE...</td>\n      <td>SIGNAL 1..21; /evidence=\"ECO:0000255\"</td>\n      <td>SESEEKEFPRELLSKIFAVDDFKGEERGCKGFGDSCTPEKNECCPN...</td>\n      <td>NaN</td>\n      <td>NaN</td>\n      <td>-1</td>\n      <td>36</td>\n      <td>24</td>\n      <td>[0.03860948979854584, -0.008861410431563854, 0...</td>\n    </tr>\n    <tr>\n      <th>5179</th>\n      <td>D2Y203</td>\n      <td>Mu-theraphotoxin-Hhn2g (Mu-TRTX-Hhn2g) (Hainan...</td>\n      <td>Cyriopagopus hainanus (Chinese bird spider) (H...</td>\n      <td>Neurotoxin 10 (Hwtx-1) family, 15 (Hntx-3) sub...</td>\n      <td>MKASMYLALAGLVLLFVVGYASESEEKEFPRELLSKIFAVDDFKGE...</td>\n      <td>SIGNAL 1..21; /evidence=\"ECO:0000255\"</td>\n      <td>SESEEKEFPRELLSKIFAVDDFKGEERGCKGFGDSCTPGKNERCPN...</td>\n      <td>Neurotoxin 10 (Hwtx-1, Hntx-1/3) family</td>\n      <td>HNTX13</td>\n      <td>21</td>\n      <td>36</td>\n      <td>30</td>\n      <td>[0.03514784947037697, -0.0030051174107939005, ...</td>\n    </tr>\n    <tr>\n      <th>5180</th>\n      <td>P68426</td>\n      <td>U6-theraphotoxin-Hs1a (U6-TRTX-Hs1a) (SHT-I) (...</td>\n      <td>Cyriopagopus schmidti (Chinese bird spider) (H...</td>\n      <td>Neurotoxin 10 (Hwtx-1) family, 51 (Hntx-8) sub...</td>\n      <td>MKASMFLALAGLVLLFVVCYASESEEKEFPRELLSTIFAVDDFKGE...</td>\n      <td>SIGNAL 1..21; /evidence=\"ECO:0000255\"</td>\n      <td>SESEEKEFPRELLSTIFAVDDFKGEERECLGIFKACTPGKNECCSN...</td>\n      <td>NaN</td>\n      <td>NaN</td>\n      <td>-1</td>\n      <td>36</td>\n      <td>30</td>\n      <td>[0.0428883396089077, -0.033054694533348083, 0....</td>\n    </tr>\n  </tbody>\n</table>\n<p>5181 rows × 13 columns</p>\n</div>"
     },
     "execution_count": 29,
     "metadata": {},
     "output_type": "execute_result"
    }
   ],
   "source": [
    "tox = pd.read_excel(\"out/data/blast_embed_tox.xlsx\").drop(columns='Unnamed: 0')\n",
    "tox"
   ],
   "metadata": {
    "collapsed": false,
    "ExecuteTime": {
     "end_time": "2024-11-14T11:13:19.883123Z",
     "start_time": "2024-11-14T11:13:17.450233Z"
    }
   },
   "id": "a193916cbb13bc9a",
   "execution_count": 29
  },
  {
   "cell_type": "code",
   "outputs": [
    {
     "data": {
      "text/plain": "       Entry shortened_label  manual_labels  mmseqs2_label  embed_label  \\\n0     P12797             NaN             -1             -1           -1   \n1     A0F0C2             NaN             -1             -1           -1   \n2     P0DQJ1             NaN             -1             -1           -1   \n3     P0DQI8             NaN             -1             -1           -1   \n4     P0CI05             NaN             -1             -1           -1   \n...      ...             ...            ...            ...          ...   \n5176  D2Y202          HNTX13             21             36           24   \n5177  P56676             NaN             -1             36           24   \n5178  D2Y1Z2             NaN             -1             36           24   \n5179  D2Y203          HNTX13             21             36           30   \n5180  P68426             NaN             -1             36           30   \n\n                           new_protein_family  \n0                                         NaN  \n1                                         NaN  \n2                                         NaN  \n3                                         NaN  \n4                                         NaN  \n...                                       ...  \n5176  Neurotoxin 10 (Hwtx-1, Hntx-1/3) family  \n5177                                      NaN  \n5178                                      NaN  \n5179  Neurotoxin 10 (Hwtx-1, Hntx-1/3) family  \n5180                                      NaN  \n\n[5181 rows x 6 columns]",
      "text/html": "<div>\n<style scoped>\n    .dataframe tbody tr th:only-of-type {\n        vertical-align: middle;\n    }\n\n    .dataframe tbody tr th {\n        vertical-align: top;\n    }\n\n    .dataframe thead th {\n        text-align: right;\n    }\n</style>\n<table border=\"1\" class=\"dataframe\">\n  <thead>\n    <tr style=\"text-align: right;\">\n      <th></th>\n      <th>Entry</th>\n      <th>shortened_label</th>\n      <th>manual_labels</th>\n      <th>mmseqs2_label</th>\n      <th>embed_label</th>\n      <th>new_protein_family</th>\n    </tr>\n  </thead>\n  <tbody>\n    <tr>\n      <th>0</th>\n      <td>P12797</td>\n      <td>NaN</td>\n      <td>-1</td>\n      <td>-1</td>\n      <td>-1</td>\n      <td>NaN</td>\n    </tr>\n    <tr>\n      <th>1</th>\n      <td>A0F0C2</td>\n      <td>NaN</td>\n      <td>-1</td>\n      <td>-1</td>\n      <td>-1</td>\n      <td>NaN</td>\n    </tr>\n    <tr>\n      <th>2</th>\n      <td>P0DQJ1</td>\n      <td>NaN</td>\n      <td>-1</td>\n      <td>-1</td>\n      <td>-1</td>\n      <td>NaN</td>\n    </tr>\n    <tr>\n      <th>3</th>\n      <td>P0DQI8</td>\n      <td>NaN</td>\n      <td>-1</td>\n      <td>-1</td>\n      <td>-1</td>\n      <td>NaN</td>\n    </tr>\n    <tr>\n      <th>4</th>\n      <td>P0CI05</td>\n      <td>NaN</td>\n      <td>-1</td>\n      <td>-1</td>\n      <td>-1</td>\n      <td>NaN</td>\n    </tr>\n    <tr>\n      <th>...</th>\n      <td>...</td>\n      <td>...</td>\n      <td>...</td>\n      <td>...</td>\n      <td>...</td>\n      <td>...</td>\n    </tr>\n    <tr>\n      <th>5176</th>\n      <td>D2Y202</td>\n      <td>HNTX13</td>\n      <td>21</td>\n      <td>36</td>\n      <td>24</td>\n      <td>Neurotoxin 10 (Hwtx-1, Hntx-1/3) family</td>\n    </tr>\n    <tr>\n      <th>5177</th>\n      <td>P56676</td>\n      <td>NaN</td>\n      <td>-1</td>\n      <td>36</td>\n      <td>24</td>\n      <td>NaN</td>\n    </tr>\n    <tr>\n      <th>5178</th>\n      <td>D2Y1Z2</td>\n      <td>NaN</td>\n      <td>-1</td>\n      <td>36</td>\n      <td>24</td>\n      <td>NaN</td>\n    </tr>\n    <tr>\n      <th>5179</th>\n      <td>D2Y203</td>\n      <td>HNTX13</td>\n      <td>21</td>\n      <td>36</td>\n      <td>30</td>\n      <td>Neurotoxin 10 (Hwtx-1, Hntx-1/3) family</td>\n    </tr>\n    <tr>\n      <th>5180</th>\n      <td>P68426</td>\n      <td>NaN</td>\n      <td>-1</td>\n      <td>36</td>\n      <td>30</td>\n      <td>NaN</td>\n    </tr>\n  </tbody>\n</table>\n<p>5181 rows × 6 columns</p>\n</div>"
     },
     "execution_count": 30,
     "metadata": {},
     "output_type": "execute_result"
    }
   ],
   "source": [
    "features = tox[['Entry', 'shortened_label', 'manual_labels', 'mmseqs2_label', 'embed_label', 'new_protein_family']]\n",
    "features"
   ],
   "metadata": {
    "collapsed": false,
    "ExecuteTime": {
     "end_time": "2024-11-14T11:13:21.173290Z",
     "start_time": "2024-11-14T11:13:21.161904Z"
    }
   },
   "id": "e427b43418150348",
   "execution_count": 30
  },
  {
   "cell_type": "code",
   "outputs": [
    {
     "data": {
      "text/plain": "     identifier shortened_label  manual_labels  mmseqs2_label  embed_label  \\\n0        P12797             NaN             -1             -1           -1   \n1        A0F0C2             NaN             -1             -1           -1   \n2        P0DQJ1             NaN             -1             -1           -1   \n3        P0DQI8             NaN             -1             -1           -1   \n4        P0CI05             NaN             -1             -1           -1   \n...         ...             ...            ...            ...          ...   \n5176     D2Y202          HNTX13             21             36           24   \n5177     P56676             NaN             -1             36           24   \n5178     D2Y1Z2             NaN             -1             36           24   \n5179     D2Y203          HNTX13             21             36           30   \n5180     P68426             NaN             -1             36           30   \n\n                           new_protein_family  \n0                                         NaN  \n1                                         NaN  \n2                                         NaN  \n3                                         NaN  \n4                                         NaN  \n...                                       ...  \n5176  Neurotoxin 10 (Hwtx-1, Hntx-1/3) family  \n5177                                      NaN  \n5178                                      NaN  \n5179  Neurotoxin 10 (Hwtx-1, Hntx-1/3) family  \n5180                                      NaN  \n\n[5181 rows x 6 columns]",
      "text/html": "<div>\n<style scoped>\n    .dataframe tbody tr th:only-of-type {\n        vertical-align: middle;\n    }\n\n    .dataframe tbody tr th {\n        vertical-align: top;\n    }\n\n    .dataframe thead th {\n        text-align: right;\n    }\n</style>\n<table border=\"1\" class=\"dataframe\">\n  <thead>\n    <tr style=\"text-align: right;\">\n      <th></th>\n      <th>identifier</th>\n      <th>shortened_label</th>\n      <th>manual_labels</th>\n      <th>mmseqs2_label</th>\n      <th>embed_label</th>\n      <th>new_protein_family</th>\n    </tr>\n  </thead>\n  <tbody>\n    <tr>\n      <th>0</th>\n      <td>P12797</td>\n      <td>NaN</td>\n      <td>-1</td>\n      <td>-1</td>\n      <td>-1</td>\n      <td>NaN</td>\n    </tr>\n    <tr>\n      <th>1</th>\n      <td>A0F0C2</td>\n      <td>NaN</td>\n      <td>-1</td>\n      <td>-1</td>\n      <td>-1</td>\n      <td>NaN</td>\n    </tr>\n    <tr>\n      <th>2</th>\n      <td>P0DQJ1</td>\n      <td>NaN</td>\n      <td>-1</td>\n      <td>-1</td>\n      <td>-1</td>\n      <td>NaN</td>\n    </tr>\n    <tr>\n      <th>3</th>\n      <td>P0DQI8</td>\n      <td>NaN</td>\n      <td>-1</td>\n      <td>-1</td>\n      <td>-1</td>\n      <td>NaN</td>\n    </tr>\n    <tr>\n      <th>4</th>\n      <td>P0CI05</td>\n      <td>NaN</td>\n      <td>-1</td>\n      <td>-1</td>\n      <td>-1</td>\n      <td>NaN</td>\n    </tr>\n    <tr>\n      <th>...</th>\n      <td>...</td>\n      <td>...</td>\n      <td>...</td>\n      <td>...</td>\n      <td>...</td>\n      <td>...</td>\n    </tr>\n    <tr>\n      <th>5176</th>\n      <td>D2Y202</td>\n      <td>HNTX13</td>\n      <td>21</td>\n      <td>36</td>\n      <td>24</td>\n      <td>Neurotoxin 10 (Hwtx-1, Hntx-1/3) family</td>\n    </tr>\n    <tr>\n      <th>5177</th>\n      <td>P56676</td>\n      <td>NaN</td>\n      <td>-1</td>\n      <td>36</td>\n      <td>24</td>\n      <td>NaN</td>\n    </tr>\n    <tr>\n      <th>5178</th>\n      <td>D2Y1Z2</td>\n      <td>NaN</td>\n      <td>-1</td>\n      <td>36</td>\n      <td>24</td>\n      <td>NaN</td>\n    </tr>\n    <tr>\n      <th>5179</th>\n      <td>D2Y203</td>\n      <td>HNTX13</td>\n      <td>21</td>\n      <td>36</td>\n      <td>30</td>\n      <td>Neurotoxin 10 (Hwtx-1, Hntx-1/3) family</td>\n    </tr>\n    <tr>\n      <th>5180</th>\n      <td>P68426</td>\n      <td>NaN</td>\n      <td>-1</td>\n      <td>36</td>\n      <td>30</td>\n      <td>NaN</td>\n    </tr>\n  </tbody>\n</table>\n<p>5181 rows × 6 columns</p>\n</div>"
     },
     "execution_count": 31,
     "metadata": {},
     "output_type": "execute_result"
    }
   ],
   "source": [
    "features = features.rename({'Entry': 'identifier'}, axis='columns')\n",
    "features"
   ],
   "metadata": {
    "collapsed": false,
    "ExecuteTime": {
     "end_time": "2024-11-14T11:13:24.873947Z",
     "start_time": "2024-11-14T11:13:24.863410Z"
    }
   },
   "id": "d17864abb88d3bbb",
   "execution_count": 31
  },
  {
   "cell_type": "code",
   "outputs": [
    {
     "data": {
      "text/plain": "     identifier shortened_label  manual_labels  mmseqs2_label  embed_label  \\\n0        P12797             N/A             -1             -1           -1   \n1        A0F0C2             N/A             -1             -1           -1   \n2        P0DQJ1             N/A             -1             -1           -1   \n3        P0DQI8             N/A             -1             -1           -1   \n4        P0CI05             N/A             -1             -1           -1   \n...         ...             ...            ...            ...          ...   \n5176     D2Y202          HNTX13             21             36           24   \n5177     P56676             N/A             -1             36           24   \n5178     D2Y1Z2             N/A             -1             36           24   \n5179     D2Y203          HNTX13             21             36           30   \n5180     P68426             N/A             -1             36           30   \n\n                           new_protein_family  \n0                                         N/A  \n1                                         N/A  \n2                                         N/A  \n3                                         N/A  \n4                                         N/A  \n...                                       ...  \n5176  Neurotoxin 10 (Hwtx-1, Hntx-1/3) family  \n5177                                      N/A  \n5178                                      N/A  \n5179  Neurotoxin 10 (Hwtx-1, Hntx-1/3) family  \n5180                                      N/A  \n\n[5181 rows x 6 columns]",
      "text/html": "<div>\n<style scoped>\n    .dataframe tbody tr th:only-of-type {\n        vertical-align: middle;\n    }\n\n    .dataframe tbody tr th {\n        vertical-align: top;\n    }\n\n    .dataframe thead th {\n        text-align: right;\n    }\n</style>\n<table border=\"1\" class=\"dataframe\">\n  <thead>\n    <tr style=\"text-align: right;\">\n      <th></th>\n      <th>identifier</th>\n      <th>shortened_label</th>\n      <th>manual_labels</th>\n      <th>mmseqs2_label</th>\n      <th>embed_label</th>\n      <th>new_protein_family</th>\n    </tr>\n  </thead>\n  <tbody>\n    <tr>\n      <th>0</th>\n      <td>P12797</td>\n      <td>N/A</td>\n      <td>-1</td>\n      <td>-1</td>\n      <td>-1</td>\n      <td>N/A</td>\n    </tr>\n    <tr>\n      <th>1</th>\n      <td>A0F0C2</td>\n      <td>N/A</td>\n      <td>-1</td>\n      <td>-1</td>\n      <td>-1</td>\n      <td>N/A</td>\n    </tr>\n    <tr>\n      <th>2</th>\n      <td>P0DQJ1</td>\n      <td>N/A</td>\n      <td>-1</td>\n      <td>-1</td>\n      <td>-1</td>\n      <td>N/A</td>\n    </tr>\n    <tr>\n      <th>3</th>\n      <td>P0DQI8</td>\n      <td>N/A</td>\n      <td>-1</td>\n      <td>-1</td>\n      <td>-1</td>\n      <td>N/A</td>\n    </tr>\n    <tr>\n      <th>4</th>\n      <td>P0CI05</td>\n      <td>N/A</td>\n      <td>-1</td>\n      <td>-1</td>\n      <td>-1</td>\n      <td>N/A</td>\n    </tr>\n    <tr>\n      <th>...</th>\n      <td>...</td>\n      <td>...</td>\n      <td>...</td>\n      <td>...</td>\n      <td>...</td>\n      <td>...</td>\n    </tr>\n    <tr>\n      <th>5176</th>\n      <td>D2Y202</td>\n      <td>HNTX13</td>\n      <td>21</td>\n      <td>36</td>\n      <td>24</td>\n      <td>Neurotoxin 10 (Hwtx-1, Hntx-1/3) family</td>\n    </tr>\n    <tr>\n      <th>5177</th>\n      <td>P56676</td>\n      <td>N/A</td>\n      <td>-1</td>\n      <td>36</td>\n      <td>24</td>\n      <td>N/A</td>\n    </tr>\n    <tr>\n      <th>5178</th>\n      <td>D2Y1Z2</td>\n      <td>N/A</td>\n      <td>-1</td>\n      <td>36</td>\n      <td>24</td>\n      <td>N/A</td>\n    </tr>\n    <tr>\n      <th>5179</th>\n      <td>D2Y203</td>\n      <td>HNTX13</td>\n      <td>21</td>\n      <td>36</td>\n      <td>30</td>\n      <td>Neurotoxin 10 (Hwtx-1, Hntx-1/3) family</td>\n    </tr>\n    <tr>\n      <th>5180</th>\n      <td>P68426</td>\n      <td>N/A</td>\n      <td>-1</td>\n      <td>36</td>\n      <td>30</td>\n      <td>N/A</td>\n    </tr>\n  </tbody>\n</table>\n<p>5181 rows × 6 columns</p>\n</div>"
     },
     "execution_count": 32,
     "metadata": {},
     "output_type": "execute_result"
    }
   ],
   "source": [
    "features = features.fillna('N/A')\n",
    "features"
   ],
   "metadata": {
    "collapsed": false,
    "ExecuteTime": {
     "end_time": "2024-11-14T11:13:53.644237Z",
     "start_time": "2024-11-14T11:13:53.632519Z"
    }
   },
   "id": "d9ba8dbd397129e",
   "execution_count": 32
  },
  {
   "cell_type": "code",
   "outputs": [
    {
     "data": {
      "text/plain": "embed_label\n-1     2031\n 30     613\n 3      481\n 13     332\n 1      275\n 6      143\n 11     134\n 9      115\n 5      113\n 14     103\n 8       65\n 19      63\n 18      62\n 17      60\n 20      54\n 15      49\n 21      38\n 7       38\n 24      35\n 2       34\n 23      34\n 16      31\n 22      31\n 0       29\n 12      29\n 4       26\n 25      25\n 10      25\n 29      24\n 26      24\n 28      23\n 31      22\n 27      20\nName: count, dtype: int64"
     },
     "execution_count": 33,
     "metadata": {},
     "output_type": "execute_result"
    }
   ],
   "source": [
    "features['embed_label'].value_counts()"
   ],
   "metadata": {
    "collapsed": false,
    "ExecuteTime": {
     "end_time": "2024-11-14T11:13:58.522949Z",
     "start_time": "2024-11-14T11:13:58.516581Z"
    }
   },
   "id": "163299f3c277e0b",
   "execution_count": 33
  },
  {
   "cell_type": "code",
   "outputs": [],
   "source": [
    "features.to_csv(\"out/data/blast_embed_features.csv\", index=False)"
   ],
   "metadata": {
    "collapsed": false,
    "ExecuteTime": {
     "end_time": "2024-11-14T11:14:07.663843Z",
     "start_time": "2024-11-14T11:14:07.647189Z"
    }
   },
   "id": "bc9a50ae253aa2",
   "execution_count": 34
  },
  {
   "cell_type": "code",
   "outputs": [
    {
     "data": {
      "text/plain": "       Entry                                      Protein names  \\\n0     P12797  Megascoliakinin (MBK) (Thr6-bradykinin-Lys-Ala...   \n1     A0F0C2                                        Mesotoxin-1   \n2     P0DQJ1                                U-Asilidin(1)-Eru1a   \n3     P0DQI8                                U-Asilidin(1)-Mar1a   \n4     P0CI05                               Alpha-conotoxin TiIA   \n...      ...                                                ...   \n5176  D2Y202  Mu-theraphotoxin-Hhn2f (Mu-TRTX-Hhn2f) (Hainan...   \n5177  P56676  Mu/omega-theraphotoxin-Hs1a (Mu/omega-TRTX-Hs1...   \n5178  D2Y1Z2  Mu-theraphotoxin-Hhn2q (Mu-TRTX-Hhn2q) (Hainan...   \n5179  D2Y203  Mu-theraphotoxin-Hhn2g (Mu-TRTX-Hhn2g) (Hainan...   \n5180  P68426  U6-theraphotoxin-Hs1a (U6-TRTX-Hs1a) (SHT-I) (...   \n\n                                               Organism  \\\n0     Megascolia flavifrons (Garden dagger wasp) (So...   \n1     Mesobuthus martensii (Manchurian scorpion) (Bu...   \n2     Eutolmus rufibarbis (Golden-tabbed robberfly) ...   \n3     Machimus arthriticus (Breck robberfly) (Asilus...   \n4                        Conus tinianus (Variable cone)   \n...                                                 ...   \n5176  Cyriopagopus hainanus (Chinese bird spider) (H...   \n5177  Cyriopagopus schmidti (Chinese bird spider) (H...   \n5178  Cyriopagopus hainanus (Chinese bird spider) (H...   \n5179  Cyriopagopus hainanus (Chinese bird spider) (H...   \n5180  Cyriopagopus schmidti (Chinese bird spider) (H...   \n\n                                       Protein families  \\\n0                     Bradykinin-related peptide family   \n1     Long (3 C-C) scorpion toxin superfamily, Sodiu...   \n2                                     Asilidin-1 family   \n3                                     Asilidin-1 family   \n4                               Conotoxin A superfamily   \n...                                                 ...   \n5176  Neurotoxin 10 (Hwtx-1) family, 15 (Hntx-3) sub...   \n5177  Neurotoxin 10 (Hwtx-1) family, 23 (HwTx-I) sub...   \n5178  Neurotoxin 10 (Hwtx-1) family, 51 (Hntx-8) sub...   \n5179  Neurotoxin 10 (Hwtx-1) family, 15 (Hntx-3) sub...   \n5180  Neurotoxin 10 (Hwtx-1) family, 51 (Hntx-8) sub...   \n\n                                               Sequence  \\\n0                                           RPPGFTPFRKA   \n1     MKILTVFMIFIANFLNMMQVFSVKDRFLIINGSYELCVYAENLGED...   \n2     MANYIDVLSFLAIICATVLATLAQDCSPEGARCVHDSECCFNECID...   \n3     MANYIEVFSVLAIIFATVLAALAQDCSPEGAQCVRDSECCYNECID...   \n4                                      GGCCSHPACQNNPDYC   \n...                                                 ...   \n5176  MKASMFLALAGLVLLFVVGYASESEEKEFPIELLSKIFAVDVFKGE...   \n5177  MRASMFLALAGLVLLFVVCYASESEEKEFPRELLFKFFAVDDFKGE...   \n5178  MKASMFLALAGLVLLFVVGYASESEEKEFPRELLSKIFAVDDFKGE...   \n5179  MKASMYLALAGLVLLFVVGYASESEEKEFPRELLSKIFAVDDFKGE...   \n5180  MKASMFLALAGLVLLFVVCYASESEEKEFPRELLSTIFAVDDFKGE...   \n\n                             Signal peptide  \\\n0                                       NaN   \n1     SIGNAL 1..22; /evidence=\"ECO:0000255\"   \n2     SIGNAL 1..23; /evidence=\"ECO:0000255\"   \n3     SIGNAL 1..23; /evidence=\"ECO:0000255\"   \n4                                       NaN   \n...                                     ...   \n5176  SIGNAL 1..21; /evidence=\"ECO:0000255\"   \n5177  SIGNAL 1..21; /evidence=\"ECO:0000255\"   \n5178  SIGNAL 1..21; /evidence=\"ECO:0000255\"   \n5179  SIGNAL 1..21; /evidence=\"ECO:0000255\"   \n5180  SIGNAL 1..21; /evidence=\"ECO:0000255\"   \n\n                                          Sequence_noSP  \\\n0                                           RPPGFTPFRKA   \n1     VKDRFLIINGSYELCVYAENLGEDCENLCKQQKATDGFCRQPHCFC...   \n2                          QDCSPEGARCVHDSECCFNECIDSLCQP   \n3                          QDCSPEGAQCVRDSECCYNECIDSLCQP   \n4                                      GGCCSHPACQNNPDYC   \n...                                                 ...   \n5176  SESEEKEFPIELLSKIFAVDVFKGEERGCRGFGDSCTPGKNECCPN...   \n5177  SESEEKEFPRELLFKFFAVDDFKGEERACKGVFDACTPGKNECCPN...   \n5178  SESEEKEFPRELLSKIFAVDDFKGEERGCKGFGDSCTPEKNECCPN...   \n5179  SESEEKEFPRELLSKIFAVDDFKGEERGCKGFGDSCTPGKNERCPN...   \n5180  SESEEKEFPRELLSTIFAVDDFKGEERECLGIFKACTPGKNECCSN...   \n\n                           new_protein_family shortened_label  manual_labels  \\\n0                                         NaN             NaN             -1   \n1                                         NaN             NaN             -1   \n2                                         NaN             NaN             -1   \n3                                         NaN             NaN             -1   \n4                                         NaN             NaN             -1   \n...                                       ...             ...            ...   \n5176  Neurotoxin 10 (Hwtx-1, Hntx-1/3) family          HNTX13             21   \n5177                                      NaN             NaN             -1   \n5178                                      NaN             NaN             -1   \n5179  Neurotoxin 10 (Hwtx-1, Hntx-1/3) family          HNTX13             21   \n5180                                      NaN             NaN             -1   \n\n      mmseqs2_label  embed_label  \\\n0                -1           -1   \n1                -1           -1   \n2                -1           -1   \n3                -1           -1   \n4                -1           -1   \n...             ...          ...   \n5176             36           24   \n5177             36           24   \n5178             36           24   \n5179             36           30   \n5180             36           30   \n\n                                               combined  \n0     [0.07187523692846298, 0.03489166870713234, -0....  \n1     [0.06908608227968216, 0.0002603373723104596, 0...  \n2     [0.14173267781734467, 0.07133115082979202, 0.0...  \n3     [0.1534920632839203, 0.06670717895030975, 0.07...  \n4     [0.1323172003030777, 0.07498660683631897, 0.00...  \n...                                                 ...  \n5176  [0.024342041462659836, 0.011955960653722286, 0...  \n5177  [0.04243668168783188, -0.0048881047405302525, ...  \n5178  [0.03860948979854584, -0.008861410431563854, 0...  \n5179  [0.03514784947037697, -0.0030051174107939005, ...  \n5180  [0.0428883396089077, -0.033054694533348083, 0....  \n\n[5181 rows x 13 columns]",
      "text/html": "<div>\n<style scoped>\n    .dataframe tbody tr th:only-of-type {\n        vertical-align: middle;\n    }\n\n    .dataframe tbody tr th {\n        vertical-align: top;\n    }\n\n    .dataframe thead th {\n        text-align: right;\n    }\n</style>\n<table border=\"1\" class=\"dataframe\">\n  <thead>\n    <tr style=\"text-align: right;\">\n      <th></th>\n      <th>Entry</th>\n      <th>Protein names</th>\n      <th>Organism</th>\n      <th>Protein families</th>\n      <th>Sequence</th>\n      <th>Signal peptide</th>\n      <th>Sequence_noSP</th>\n      <th>new_protein_family</th>\n      <th>shortened_label</th>\n      <th>manual_labels</th>\n      <th>mmseqs2_label</th>\n      <th>embed_label</th>\n      <th>combined</th>\n    </tr>\n  </thead>\n  <tbody>\n    <tr>\n      <th>0</th>\n      <td>P12797</td>\n      <td>Megascoliakinin (MBK) (Thr6-bradykinin-Lys-Ala...</td>\n      <td>Megascolia flavifrons (Garden dagger wasp) (So...</td>\n      <td>Bradykinin-related peptide family</td>\n      <td>RPPGFTPFRKA</td>\n      <td>NaN</td>\n      <td>RPPGFTPFRKA</td>\n      <td>NaN</td>\n      <td>NaN</td>\n      <td>-1</td>\n      <td>-1</td>\n      <td>-1</td>\n      <td>[0.07187523692846298, 0.03489166870713234, -0....</td>\n    </tr>\n    <tr>\n      <th>1</th>\n      <td>A0F0C2</td>\n      <td>Mesotoxin-1</td>\n      <td>Mesobuthus martensii (Manchurian scorpion) (Bu...</td>\n      <td>Long (3 C-C) scorpion toxin superfamily, Sodiu...</td>\n      <td>MKILTVFMIFIANFLNMMQVFSVKDRFLIINGSYELCVYAENLGED...</td>\n      <td>SIGNAL 1..22; /evidence=\"ECO:0000255\"</td>\n      <td>VKDRFLIINGSYELCVYAENLGEDCENLCKQQKATDGFCRQPHCFC...</td>\n      <td>NaN</td>\n      <td>NaN</td>\n      <td>-1</td>\n      <td>-1</td>\n      <td>-1</td>\n      <td>[0.06908608227968216, 0.0002603373723104596, 0...</td>\n    </tr>\n    <tr>\n      <th>2</th>\n      <td>P0DQJ1</td>\n      <td>U-Asilidin(1)-Eru1a</td>\n      <td>Eutolmus rufibarbis (Golden-tabbed robberfly) ...</td>\n      <td>Asilidin-1 family</td>\n      <td>MANYIDVLSFLAIICATVLATLAQDCSPEGARCVHDSECCFNECID...</td>\n      <td>SIGNAL 1..23; /evidence=\"ECO:0000255\"</td>\n      <td>QDCSPEGARCVHDSECCFNECIDSLCQP</td>\n      <td>NaN</td>\n      <td>NaN</td>\n      <td>-1</td>\n      <td>-1</td>\n      <td>-1</td>\n      <td>[0.14173267781734467, 0.07133115082979202, 0.0...</td>\n    </tr>\n    <tr>\n      <th>3</th>\n      <td>P0DQI8</td>\n      <td>U-Asilidin(1)-Mar1a</td>\n      <td>Machimus arthriticus (Breck robberfly) (Asilus...</td>\n      <td>Asilidin-1 family</td>\n      <td>MANYIEVFSVLAIIFATVLAALAQDCSPEGAQCVRDSECCYNECID...</td>\n      <td>SIGNAL 1..23; /evidence=\"ECO:0000255\"</td>\n      <td>QDCSPEGAQCVRDSECCYNECIDSLCQP</td>\n      <td>NaN</td>\n      <td>NaN</td>\n      <td>-1</td>\n      <td>-1</td>\n      <td>-1</td>\n      <td>[0.1534920632839203, 0.06670717895030975, 0.07...</td>\n    </tr>\n    <tr>\n      <th>4</th>\n      <td>P0CI05</td>\n      <td>Alpha-conotoxin TiIA</td>\n      <td>Conus tinianus (Variable cone)</td>\n      <td>Conotoxin A superfamily</td>\n      <td>GGCCSHPACQNNPDYC</td>\n      <td>NaN</td>\n      <td>GGCCSHPACQNNPDYC</td>\n      <td>NaN</td>\n      <td>NaN</td>\n      <td>-1</td>\n      <td>-1</td>\n      <td>-1</td>\n      <td>[0.1323172003030777, 0.07498660683631897, 0.00...</td>\n    </tr>\n    <tr>\n      <th>...</th>\n      <td>...</td>\n      <td>...</td>\n      <td>...</td>\n      <td>...</td>\n      <td>...</td>\n      <td>...</td>\n      <td>...</td>\n      <td>...</td>\n      <td>...</td>\n      <td>...</td>\n      <td>...</td>\n      <td>...</td>\n      <td>...</td>\n    </tr>\n    <tr>\n      <th>5176</th>\n      <td>D2Y202</td>\n      <td>Mu-theraphotoxin-Hhn2f (Mu-TRTX-Hhn2f) (Hainan...</td>\n      <td>Cyriopagopus hainanus (Chinese bird spider) (H...</td>\n      <td>Neurotoxin 10 (Hwtx-1) family, 15 (Hntx-3) sub...</td>\n      <td>MKASMFLALAGLVLLFVVGYASESEEKEFPIELLSKIFAVDVFKGE...</td>\n      <td>SIGNAL 1..21; /evidence=\"ECO:0000255\"</td>\n      <td>SESEEKEFPIELLSKIFAVDVFKGEERGCRGFGDSCTPGKNECCPN...</td>\n      <td>Neurotoxin 10 (Hwtx-1, Hntx-1/3) family</td>\n      <td>HNTX13</td>\n      <td>21</td>\n      <td>36</td>\n      <td>24</td>\n      <td>[0.024342041462659836, 0.011955960653722286, 0...</td>\n    </tr>\n    <tr>\n      <th>5177</th>\n      <td>P56676</td>\n      <td>Mu/omega-theraphotoxin-Hs1a (Mu/omega-TRTX-Hs1...</td>\n      <td>Cyriopagopus schmidti (Chinese bird spider) (H...</td>\n      <td>Neurotoxin 10 (Hwtx-1) family, 23 (HwTx-I) sub...</td>\n      <td>MRASMFLALAGLVLLFVVCYASESEEKEFPRELLFKFFAVDDFKGE...</td>\n      <td>SIGNAL 1..21; /evidence=\"ECO:0000255\"</td>\n      <td>SESEEKEFPRELLFKFFAVDDFKGEERACKGVFDACTPGKNECCPN...</td>\n      <td>NaN</td>\n      <td>NaN</td>\n      <td>-1</td>\n      <td>36</td>\n      <td>24</td>\n      <td>[0.04243668168783188, -0.0048881047405302525, ...</td>\n    </tr>\n    <tr>\n      <th>5178</th>\n      <td>D2Y1Z2</td>\n      <td>Mu-theraphotoxin-Hhn2q (Mu-TRTX-Hhn2q) (Hainan...</td>\n      <td>Cyriopagopus hainanus (Chinese bird spider) (H...</td>\n      <td>Neurotoxin 10 (Hwtx-1) family, 51 (Hntx-8) sub...</td>\n      <td>MKASMFLALAGLVLLFVVGYASESEEKEFPRELLSKIFAVDDFKGE...</td>\n      <td>SIGNAL 1..21; /evidence=\"ECO:0000255\"</td>\n      <td>SESEEKEFPRELLSKIFAVDDFKGEERGCKGFGDSCTPEKNECCPN...</td>\n      <td>NaN</td>\n      <td>NaN</td>\n      <td>-1</td>\n      <td>36</td>\n      <td>24</td>\n      <td>[0.03860948979854584, -0.008861410431563854, 0...</td>\n    </tr>\n    <tr>\n      <th>5179</th>\n      <td>D2Y203</td>\n      <td>Mu-theraphotoxin-Hhn2g (Mu-TRTX-Hhn2g) (Hainan...</td>\n      <td>Cyriopagopus hainanus (Chinese bird spider) (H...</td>\n      <td>Neurotoxin 10 (Hwtx-1) family, 15 (Hntx-3) sub...</td>\n      <td>MKASMYLALAGLVLLFVVGYASESEEKEFPRELLSKIFAVDDFKGE...</td>\n      <td>SIGNAL 1..21; /evidence=\"ECO:0000255\"</td>\n      <td>SESEEKEFPRELLSKIFAVDDFKGEERGCKGFGDSCTPGKNERCPN...</td>\n      <td>Neurotoxin 10 (Hwtx-1, Hntx-1/3) family</td>\n      <td>HNTX13</td>\n      <td>21</td>\n      <td>36</td>\n      <td>30</td>\n      <td>[0.03514784947037697, -0.0030051174107939005, ...</td>\n    </tr>\n    <tr>\n      <th>5180</th>\n      <td>P68426</td>\n      <td>U6-theraphotoxin-Hs1a (U6-TRTX-Hs1a) (SHT-I) (...</td>\n      <td>Cyriopagopus schmidti (Chinese bird spider) (H...</td>\n      <td>Neurotoxin 10 (Hwtx-1) family, 51 (Hntx-8) sub...</td>\n      <td>MKASMFLALAGLVLLFVVCYASESEEKEFPRELLSTIFAVDDFKGE...</td>\n      <td>SIGNAL 1..21; /evidence=\"ECO:0000255\"</td>\n      <td>SESEEKEFPRELLSTIFAVDDFKGEERECLGIFKACTPGKNECCSN...</td>\n      <td>NaN</td>\n      <td>NaN</td>\n      <td>-1</td>\n      <td>36</td>\n      <td>30</td>\n      <td>[0.0428883396089077, -0.033054694533348083, 0....</td>\n    </tr>\n  </tbody>\n</table>\n<p>5181 rows × 13 columns</p>\n</div>"
     },
     "execution_count": 8,
     "metadata": {},
     "output_type": "execute_result"
    }
   ],
   "source": [
    "tox = pd.read_excel(\"../out/data/blast_embed_tox.xlsx\").drop(columns='Unnamed: 0')\n",
    "tox"
   ],
   "metadata": {
    "collapsed": false,
    "ExecuteTime": {
     "end_time": "2024-11-24T14:27:18.404565Z",
     "start_time": "2024-11-24T14:27:16.033621Z"
    }
   },
   "id": "3d45999197233ec9",
   "execution_count": 8
  },
  {
   "cell_type": "code",
   "outputs": [],
   "source": [
    "filtered_df = tox[tox[\"manual_labels\"] != -1]\n",
    "\n",
    "with open(\"../out/data/denoised_toxins.fasta\", \"w\") as fasta_file:\n",
    "    for _, row in filtered_df.iterrows():\n",
    "        fasta_file.write(f\">{row['Entry']}\\n{row['Sequence']}\\n\")"
   ],
   "metadata": {
    "collapsed": false,
    "ExecuteTime": {
     "end_time": "2024-11-22T10:37:44.391162Z",
     "start_time": "2024-11-22T10:37:44.149760Z"
    }
   },
   "id": "5a07492b50c9b4fb",
   "execution_count": 7
  },
  {
   "cell_type": "code",
   "outputs": [],
   "source": [],
   "metadata": {
    "collapsed": false
   },
   "id": "fdadd2bfb99390ce"
  }
 ],
 "metadata": {
  "kernelspec": {
   "display_name": "Python 3",
   "language": "python",
   "name": "python3"
  },
  "language_info": {
   "codemirror_mode": {
    "name": "ipython",
    "version": 2
   },
   "file_extension": ".py",
   "mimetype": "text/x-python",
   "name": "python",
   "nbconvert_exporter": "python",
   "pygments_lexer": "ipython2",
   "version": "2.7.6"
  }
 },
 "nbformat": 4,
 "nbformat_minor": 5
}
